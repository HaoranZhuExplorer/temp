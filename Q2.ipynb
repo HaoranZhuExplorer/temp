{
  "nbformat": 4,
  "nbformat_minor": 0,
  "metadata": {
    "kernelspec": {
      "display_name": "Python 3",
      "language": "python",
      "name": "python3"
    },
    "language_info": {
      "codemirror_mode": {
        "name": "ipython",
        "version": 3
      },
      "file_extension": ".py",
      "mimetype": "text/x-python",
      "name": "python",
      "nbconvert_exporter": "python",
      "pygments_lexer": "ipython3",
      "version": "3.8.3"
    },
    "colab": {
      "name": "Q2.ipynb",
      "provenance": [],
      "collapsed_sections": [
        "MMbXzcUiKc7e",
        "iV26KJLDrzhx",
        "UjEH5jIhwnet",
        "mZRJhVst0BLv",
        "NRrWJ63c4C0f",
        "xR_9tihT5Vmu",
        "G05PHYHJ-DF2"
      ]
    },
    "accelerator": "GPU",
    "widgets": {
      "application/vnd.jupyter.widget-state+json": {
        "772e4bc272e94a469ffc401698837bb4": {
          "model_module": "@jupyter-widgets/controls",
          "model_name": "HBoxModel",
          "state": {
            "_view_name": "HBoxView",
            "_dom_classes": [],
            "_model_name": "HBoxModel",
            "_view_module": "@jupyter-widgets/controls",
            "_model_module_version": "1.5.0",
            "_view_count": null,
            "_view_module_version": "1.5.0",
            "box_style": "",
            "layout": "IPY_MODEL_74e04b559c7545ca8c1b8026b2b90261",
            "_model_module": "@jupyter-widgets/controls",
            "children": [
              "IPY_MODEL_d0b5a9a31fce4039bdea704504a5cb44",
              "IPY_MODEL_c98263fd33b9485092856e5831d2fa9c"
            ]
          }
        },
        "74e04b559c7545ca8c1b8026b2b90261": {
          "model_module": "@jupyter-widgets/base",
          "model_name": "LayoutModel",
          "state": {
            "_view_name": "LayoutView",
            "grid_template_rows": null,
            "right": null,
            "justify_content": null,
            "_view_module": "@jupyter-widgets/base",
            "overflow": null,
            "_model_module_version": "1.2.0",
            "_view_count": null,
            "flex_flow": null,
            "width": null,
            "min_width": null,
            "border": null,
            "align_items": null,
            "bottom": null,
            "_model_module": "@jupyter-widgets/base",
            "top": null,
            "grid_column": null,
            "overflow_y": null,
            "overflow_x": null,
            "grid_auto_flow": null,
            "grid_area": null,
            "grid_template_columns": null,
            "flex": null,
            "_model_name": "LayoutModel",
            "justify_items": null,
            "grid_row": null,
            "max_height": null,
            "align_content": null,
            "visibility": null,
            "align_self": null,
            "height": null,
            "min_height": null,
            "padding": null,
            "grid_auto_rows": null,
            "grid_gap": null,
            "max_width": null,
            "order": null,
            "_view_module_version": "1.2.0",
            "grid_template_areas": null,
            "object_position": null,
            "object_fit": null,
            "grid_auto_columns": null,
            "margin": null,
            "display": null,
            "left": null
          }
        },
        "d0b5a9a31fce4039bdea704504a5cb44": {
          "model_module": "@jupyter-widgets/controls",
          "model_name": "FloatProgressModel",
          "state": {
            "_view_name": "ProgressView",
            "style": "IPY_MODEL_e8aea624beaa4aaa87b8bd9b32519f79",
            "_dom_classes": [],
            "description": " 75%",
            "_model_name": "FloatProgressModel",
            "bar_style": "danger",
            "max": 150,
            "_view_module": "@jupyter-widgets/controls",
            "_model_module_version": "1.5.0",
            "value": 113,
            "_view_count": null,
            "_view_module_version": "1.5.0",
            "orientation": "horizontal",
            "min": 0,
            "description_tooltip": null,
            "_model_module": "@jupyter-widgets/controls",
            "layout": "IPY_MODEL_e028f3ce35c24e28862229c80f2ff0f4"
          }
        },
        "c98263fd33b9485092856e5831d2fa9c": {
          "model_module": "@jupyter-widgets/controls",
          "model_name": "HTMLModel",
          "state": {
            "_view_name": "HTMLView",
            "style": "IPY_MODEL_70b21b6abd06410982f4c264d357ea22",
            "_dom_classes": [],
            "description": "",
            "_model_name": "HTMLModel",
            "placeholder": "​",
            "_view_module": "@jupyter-widgets/controls",
            "_model_module_version": "1.5.0",
            "value": " 113/150 [22:53&lt;07:25, 12.05s/it]",
            "_view_count": null,
            "_view_module_version": "1.5.0",
            "description_tooltip": null,
            "_model_module": "@jupyter-widgets/controls",
            "layout": "IPY_MODEL_662e6e91ae614413a74c075fcf62dbf4"
          }
        },
        "e8aea624beaa4aaa87b8bd9b32519f79": {
          "model_module": "@jupyter-widgets/controls",
          "model_name": "ProgressStyleModel",
          "state": {
            "_view_name": "StyleView",
            "_model_name": "ProgressStyleModel",
            "description_width": "initial",
            "_view_module": "@jupyter-widgets/base",
            "_model_module_version": "1.5.0",
            "_view_count": null,
            "_view_module_version": "1.2.0",
            "bar_color": null,
            "_model_module": "@jupyter-widgets/controls"
          }
        },
        "e028f3ce35c24e28862229c80f2ff0f4": {
          "model_module": "@jupyter-widgets/base",
          "model_name": "LayoutModel",
          "state": {
            "_view_name": "LayoutView",
            "grid_template_rows": null,
            "right": null,
            "justify_content": null,
            "_view_module": "@jupyter-widgets/base",
            "overflow": null,
            "_model_module_version": "1.2.0",
            "_view_count": null,
            "flex_flow": null,
            "width": null,
            "min_width": null,
            "border": null,
            "align_items": null,
            "bottom": null,
            "_model_module": "@jupyter-widgets/base",
            "top": null,
            "grid_column": null,
            "overflow_y": null,
            "overflow_x": null,
            "grid_auto_flow": null,
            "grid_area": null,
            "grid_template_columns": null,
            "flex": null,
            "_model_name": "LayoutModel",
            "justify_items": null,
            "grid_row": null,
            "max_height": null,
            "align_content": null,
            "visibility": null,
            "align_self": null,
            "height": null,
            "min_height": null,
            "padding": null,
            "grid_auto_rows": null,
            "grid_gap": null,
            "max_width": null,
            "order": null,
            "_view_module_version": "1.2.0",
            "grid_template_areas": null,
            "object_position": null,
            "object_fit": null,
            "grid_auto_columns": null,
            "margin": null,
            "display": null,
            "left": null
          }
        },
        "70b21b6abd06410982f4c264d357ea22": {
          "model_module": "@jupyter-widgets/controls",
          "model_name": "DescriptionStyleModel",
          "state": {
            "_view_name": "StyleView",
            "_model_name": "DescriptionStyleModel",
            "description_width": "",
            "_view_module": "@jupyter-widgets/base",
            "_model_module_version": "1.5.0",
            "_view_count": null,
            "_view_module_version": "1.2.0",
            "_model_module": "@jupyter-widgets/controls"
          }
        },
        "662e6e91ae614413a74c075fcf62dbf4": {
          "model_module": "@jupyter-widgets/base",
          "model_name": "LayoutModel",
          "state": {
            "_view_name": "LayoutView",
            "grid_template_rows": null,
            "right": null,
            "justify_content": null,
            "_view_module": "@jupyter-widgets/base",
            "overflow": null,
            "_model_module_version": "1.2.0",
            "_view_count": null,
            "flex_flow": null,
            "width": null,
            "min_width": null,
            "border": null,
            "align_items": null,
            "bottom": null,
            "_model_module": "@jupyter-widgets/base",
            "top": null,
            "grid_column": null,
            "overflow_y": null,
            "overflow_x": null,
            "grid_auto_flow": null,
            "grid_area": null,
            "grid_template_columns": null,
            "flex": null,
            "_model_name": "LayoutModel",
            "justify_items": null,
            "grid_row": null,
            "max_height": null,
            "align_content": null,
            "visibility": null,
            "align_self": null,
            "height": null,
            "min_height": null,
            "padding": null,
            "grid_auto_rows": null,
            "grid_gap": null,
            "max_width": null,
            "order": null,
            "_view_module_version": "1.2.0",
            "grid_template_areas": null,
            "object_position": null,
            "object_fit": null,
            "grid_auto_columns": null,
            "margin": null,
            "display": null,
            "left": null
          }
        }
      }
    }
  },
  "cells": [
    {
      "cell_type": "markdown",
      "metadata": {
        "id": "JccQsl2OtAOi"
      },
      "source": [
        "### Imports "
      ]
    },
    {
      "cell_type": "code",
      "metadata": {
        "id": "5elHgLPSoiT7",
        "outputId": "e9cacf4b-62e8-49b9-a30b-d9aad10f543e",
        "colab": {
          "base_uri": "https://localhost:8080/",
          "height": 34
        }
      },
      "source": [
        "import torch \n",
        "import torchvision\n",
        "import torch.nn as nn\n",
        "import torch.nn.functional as F \n",
        "import torch.optim as optim\n",
        "from IPython.display import Image \n",
        "from torchvision import transforms\n",
        "import matplotlib.pyplot as plt\n",
        "import random\n",
        "import numpy as np\n",
        "from torch.utils.data import DataLoader\n",
        "from tqdm.auto import tqdm\n",
        "device = torch.device(\"cuda\" if torch.cuda.is_available() else \"cpu\")\n",
        "seed = 12345\n",
        "random.seed(seed)\n",
        "torch.manual_seed(seed)"
      ],
      "execution_count": 2,
      "outputs": [
        {
          "output_type": "execute_result",
          "data": {
            "text/plain": [
              "<torch._C.Generator at 0x7f993ba90630>"
            ]
          },
          "metadata": {
            "tags": []
          },
          "execution_count": 2
        }
      ]
    },
    {
      "cell_type": "markdown",
      "metadata": {
        "id": "y8Aj_LrAhwRP"
      },
      "source": [
        "#### Mount your google drive so you can save model checkpoints, and report your test results on the final best model after hyperparameter tuning"
      ]
    },
    {
      "cell_type": "code",
      "metadata": {
        "id": "utx0ySGqQbha",
        "outputId": "e2b81cf6-cf51-42f7-eaeb-13cfd10a9b5e",
        "colab": {
          "base_uri": "https://localhost:8080/",
          "height": 54
        }
      },
      "source": [
        "from google.colab import drive\n",
        "drive.mount('/content/drive')"
      ],
      "execution_count": 2,
      "outputs": [
        {
          "output_type": "stream",
          "text": [
            "Drive already mounted at /content/drive; to attempt to forcibly remount, call drive.mount(\"/content/drive\", force_remount=True).\n"
          ],
          "name": "stdout"
        }
      ]
    },
    {
      "cell_type": "markdown",
      "metadata": {
        "id": "zqzOqBsvs9kA"
      },
      "source": [
        "### Data loading "
      ]
    },
    {
      "cell_type": "markdown",
      "metadata": {
        "id": "3-3MVXNOhdCc"
      },
      "source": [
        "##### Run the following cells to load the dataset. Setting download=True will download it for you."
      ]
    },
    {
      "cell_type": "code",
      "metadata": {
        "id": "8rb7Ng7_VcwL",
        "outputId": "315beb15-f20a-4e7b-e70d-fbec6e5a720a",
        "colab": {
          "base_uri": "https://localhost:8080/",
          "height": 51
        }
      },
      "source": [
        "cifar10_train = torchvision.datasets.CIFAR10(root='./cifar10', \n",
        "                                             train=True, \n",
        "                                             transform=None, \n",
        "                                             target_transform=None,\n",
        "                                             download=True)\n",
        "cifar10_test = torchvision.datasets.CIFAR10(root='./cifar10', \n",
        "                                             train=False, \n",
        "                                             transform=None, \n",
        "                                             target_transform=None,\n",
        "                                             download=True)\n",
        "\n",
        "# Divides the dataset into train and val so that we can use the val to choose our hyperparameters\n",
        "train_dataset, val_dataset = torch.utils.data.random_split(cifar10_train, [40000, 10000], \n",
        "                                                           generator=torch.Generator().manual_seed(12345))\n",
        "test_dataset = cifar10_test"
      ],
      "execution_count": 3,
      "outputs": [
        {
          "output_type": "stream",
          "text": [
            "Files already downloaded and verified\n",
            "Files already downloaded and verified\n"
          ],
          "name": "stdout"
        }
      ]
    },
    {
      "cell_type": "code",
      "metadata": {
        "id": "J_NzhpK8KvQC"
      },
      "source": [
        "# Helper code to support adding different transforms on the dataset lazily after downloading the dataset\n",
        "# From https://discuss.pytorch.org/t/apply-different-transform-data-augmentation-to-train-and-validation/63580/5\n",
        "class MapDataset(torch.utils.data.Dataset):\n",
        "    \"\"\"\n",
        "    Given a dataset, creates a dataset which applies a mapping function\n",
        "    to its items (lazily, only when an item is called).\n",
        "\n",
        "    Note that data is not cloned/copied from the initial dataset.\n",
        "    \"\"\"\n",
        "\n",
        "    def __init__(self, dataset, map_fn):\n",
        "        self.dataset = dataset\n",
        "        self.map = map_fn\n",
        "\n",
        "    def __getitem__(self, index):\n",
        "        if self.map:     \n",
        "            x = self.map(self.dataset[index][0]) \n",
        "        else:     \n",
        "            x = self.dataset[index][0]  \n",
        "        y = self.dataset[index][1]         \n",
        "        return x, y\n",
        "\n",
        "    def __len__(self):\n",
        "        return len(self.dataset)"
      ],
      "execution_count": 4,
      "outputs": []
    },
    {
      "cell_type": "markdown",
      "metadata": {
        "id": "MMbXzcUiKc7e"
      },
      "source": [
        "#### Standard transforms to apply on images - Convert to tensors and normalize with mean and std. These are the basic transforms that you will always apply. The mean and std have been pre calculated on the training set. "
      ]
    },
    {
      "cell_type": "code",
      "metadata": {
        "id": "LWEKU9xQKbkW"
      },
      "source": [
        "# Notice that we apply the same mean and std normalization calculated on train, to both the train and test datasets.\n",
        "test_transform = transforms.Compose([\n",
        "                                     transforms.ToTensor(),\n",
        "                                     transforms.Normalize(\n",
        "                                         [0.4373, 0.4434, 0.4725],\n",
        "                                         [0.1201, 0.1231, 0.1052])\n",
        "                                     ])\n",
        "\n",
        "train_transform = transforms.Compose([\n",
        "                                      transforms.ToTensor(),\n",
        "                                      transforms.Normalize(\n",
        "                                          [0.4373, 0.4434, 0.4725],\n",
        "                                          [0.1201, 0.1231, 0.1052])\n",
        "                                      ])\n"
      ],
      "execution_count": 5,
      "outputs": []
    },
    {
      "cell_type": "code",
      "metadata": {
        "id": "TrDIxTs2JwbO"
      },
      "source": [
        "train_dataset_w_transform  = MapDataset(train_dataset, train_transform)\n",
        "val_dataset_w_transform = MapDataset(val_dataset, test_transform)\n",
        "test_dataset_w_transform = MapDataset(test_dataset, test_transform)"
      ],
      "execution_count": 6,
      "outputs": []
    },
    {
      "cell_type": "code",
      "metadata": {
        "id": "4LcExDS1tyjI"
      },
      "source": [
        "bs = 128\n",
        "torch.backends.cudnn.benchmark = True\n",
        "train_loader = DataLoader(train_dataset_w_transform, batch_size=bs, shuffle=True, drop_last=False,num_workers=10, pin_memory=True)\n",
        "val_loader = DataLoader(val_dataset_w_transform, batch_size=bs, shuffle=False, drop_last=False,num_workers=10, pin_memory=True)\n",
        "test_loader = DataLoader(test_dataset, batch_size=bs, shuffle=False, drop_last=False,num_workers=10, pin_memory=True)"
      ],
      "execution_count": 7,
      "outputs": []
    },
    {
      "cell_type": "markdown",
      "metadata": {
        "id": "pXLFsEihoMTn"
      },
      "source": [
        "### Q 2.1 Training loop"
      ]
    },
    {
      "cell_type": "markdown",
      "metadata": {
        "id": "ksECLwMqkgj_"
      },
      "source": [
        "In this question, fill in the missing parts to build a generic training loop that returns the train and validation losses and accuracies. The #TODOs will guide you through the key points and you should fill some code for each #TODO. You might need to add some additional code for bookkeeping the losses and accuracies"
      ]
    },
    {
      "cell_type": "code",
      "metadata": {
        "id": "GnmWg9P9N5U_"
      },
      "source": [
        "def train_loop(model, criterion, optimizer,  train_loader, val_loader):\n",
        "    \"\"\"\n",
        "    Generic training loop\n",
        "\n",
        "    Parameters\n",
        "    ----------\n",
        "    model : Object instance of your model class \n",
        "    criterion : Loss function \n",
        "    optimizer : Instance of optimizer class of your choice \n",
        "    train_loader : Training data loader \n",
        "    val_loader : Validation data loader\n",
        "\n",
        "    Returns\n",
        "    -------\n",
        "    train_losses : List with train loss on dataset per epoch\n",
        "    train_accuracies : List with train accuracy on dataset per epoch\n",
        "    val_losses : List with validation loss on dataset per epoch\n",
        "    val_accuracies : List with validation accuracy on dataset per epoch\n",
        "\n",
        "    \"\"\"\n",
        "    best_val = 0.0\n",
        "    train_losses = []\n",
        "    val_losses = []\n",
        "    train_accuracies = []\n",
        "    val_accuracies = []\n",
        "    max_patience = 10\n",
        "    patience_counter = 0\n",
        "\n",
        "    avg_loss = 0\n",
        "    avg_accuracy = 0\n",
        "    # Training\n",
        "    for t in tqdm(range(150)):\n",
        "\n",
        "        # TODO : Set the model to train mode        \n",
        "        model.train()\n",
        "        # TODO: Loop over the training set \n",
        "        for batch_idx, (data, target) in enumerate(train_loader):\n",
        "            # TODO: Put the inputs and targets on the write device\n",
        "            data, target = data.to(device), target.to(device)\n",
        "            # TODO: Feed forward to get the logits\n",
        "            output = model(data)\n",
        "            # TODO: Compute the loss and accuracy\n",
        "            loss = criterion(output, target)\n",
        "            avg_loss +=loss.item()\n",
        "            pred = output.argmax(dim=1,keepdim=True)\n",
        "            correct =pred.eq(target.view_as(pred)).sum().item()\n",
        "            avg_accuracy += correct/target.size(0)\n",
        "            # TODO: zero the gradients before running\n",
        "            # the backward pass.\n",
        "            optimizer.zero_grad()\n",
        "            # TODO: Backward pass to compute the gradient\n",
        "            # of loss w.r.t our learnable params. \n",
        "            loss.backward()\n",
        "            # TODO: Update params\n",
        "            optimizer.step()\n",
        "            # TODO: Keep track of accuracy and loss\n",
        "            # We'll do store the average accuracy and average loss after each epoch\n",
        "            # So we don't do it here, we do it outside the current for loop \n",
        "        avg_loss /=len(train_loader)\n",
        "        avg_accuracy /=len(train_loader)\n",
        "        train_losses.append(avg_loss)\n",
        "        train_accuracies.append(avg_accuracy)\n",
        "        \n",
        "        # TODO: Switch the model to eval mode\n",
        "        model.eval()        \n",
        "\n",
        "        val_loss = 0\n",
        "        val_accuracy = 0\n",
        "        with torch.no_grad():\n",
        "            # TODO: Loop over the validation set \n",
        "            for data, target in val_loader:\n",
        "                # TODO: Put the inputs and targets on the write device\n",
        "                data, target = data.to(device), target.to(device)\n",
        "                # TODO: Feed forward to get the logits\n",
        "                output = model(data)\n",
        "                # TODO: Compute the loss and accuracy\n",
        "                val_loss += criterion(output, target).item()\n",
        "                pred = output.argmax(dim=1,keepdim=True)\n",
        "                correct =pred.eq(target.view_as(pred)).sum().item()\n",
        "                val_accuracy += correct/target.size(0)\n",
        "                # TODO: Keep track of accuracy and loss\n",
        "                # We'll do store the average accuracy and average loss after each epoch\n",
        "                # So we don't do it here, we do it outside the current for loop \n",
        "            val_loss /=len(test_loader)\n",
        "            val_accuracy /=len(test_loader)\n",
        "            val_losses.append(val_loss)\n",
        "            val_accuracies.append(val_accuracy)\n",
        "\n",
        "        if val_accuracies[-1] > best_val:\n",
        "          best_val = val_accuracies[-1]\n",
        "          patience_counter = 0\n",
        "\n",
        "          # TODO: Save best model, optimizer, epoch_number\n",
        "          torch.save({\n",
        "            'epoch': t,\n",
        "            'model_state_dict': model.state_dict(),\n",
        "            'optimizer_state_dict': optimizer.state_dict(),\n",
        "            }, \"Q2.pt\")\n",
        "          \n",
        "        else:\n",
        "          patience_counter += 1    \n",
        "          if patience_counter > max_patience: \n",
        "            break\n",
        "\n",
        "        print(\"[EPOCH]: %i, [TRAIN LOSS]: %.6f, [TRAIN ACCURACY]: %.3f\" % (t, train_losses[-1], train_accuracies[-1]))\n",
        "        print(\"[EPOCH]: %i, [VAL LOSS]: %.6f, [VAL ACCURACY]: %.3f \\n\" % (t, val_losses[-1] ,val_accuracies[-1]))\n",
        "\n",
        "    return train_losses, train_accuracies, val_losses, val_accuracies"
      ],
      "execution_count": 68,
      "outputs": []
    },
    {
      "cell_type": "markdown",
      "metadata": {
        "id": "0sdCTYUouY4o"
      },
      "source": [
        "### Q 2.2 Shallow convolutional network. "
      ]
    },
    {
      "cell_type": "code",
      "metadata": {
        "id": "FKqYI2qxp95J"
      },
      "source": [
        "class View(nn.Module):\n",
        "    def __init__(self, shape):\n",
        "      super().__init__()\n",
        "      self.shape = shape\n",
        "\n",
        "    def forward(self, x):\n",
        "        return x.view(*self.shape)"
      ],
      "execution_count": 9,
      "outputs": []
    },
    {
      "cell_type": "code",
      "metadata": {
        "id": "FDHE0lOgpF0W"
      },
      "source": [
        "\n",
        "ShallowNet =  nn.Sequential(\n",
        "      nn.Conv2d(in_channels = 3, out_channels = 64, kernel_size=5, padding=2),\n",
        "      nn.ReLU(),\n",
        "      nn.MaxPool2d(kernel_size=2),\n",
        "      nn.Conv2d(in_channels = 64, out_channels = 128, kernel_size=3, padding=1),\n",
        "      nn.ReLU(),\n",
        "      nn.MaxPool2d(kernel_size=2),\n",
        "      nn.Conv2d(in_channels = 128, out_channels = 256, kernel_size=3, padding=1),\n",
        "      nn.ReLU(),\n",
        "      nn.MaxPool2d(kernel_size=8),\n",
        "      View((-1,256)),\n",
        "      nn.Linear(256, 10),\n",
        ")"
      ],
      "execution_count": 10,
      "outputs": []
    },
    {
      "cell_type": "markdown",
      "metadata": {
        "id": "iV26KJLDrzhx"
      },
      "source": [
        "#### Write the object oriented version of ShallowNet"
      ]
    },
    {
      "cell_type": "code",
      "metadata": {
        "id": "H8YygdvnuqDM"
      },
      "source": [
        "class ShallowConvnet(nn.Module):\n",
        "    def __init__(self, input_channels, num_classes):\n",
        "        \"\"\"\n",
        "\n",
        "        Parameters\n",
        "        ----------\n",
        "        input_channels : Number of input channels\n",
        "        num_classes : Number of classes for the final prediction \n",
        "        \"\"\"\n",
        "        # TODO\n",
        "        super(ShallowConvnet,self).__init__()\n",
        "        self.conv1 = nn.Conv2d(in_channels = input_channels, out_channels = 64, kernel_size=5, padding=2)\n",
        "        self.conv2 = nn.Conv2d(in_channels = 64, out_channels = 128, kernel_size=3, padding=1)\n",
        "        self.conv3 = nn.Conv2d(in_channels = 128, out_channels = 256, kernel_size=3, padding=1)\n",
        "        self.fc1 = nn.Linear(256,num_classes)\n",
        "\n",
        "    def forward(self, x):\n",
        "        \"\"\"\n",
        "\n",
        "        Parameters\n",
        "        ----------\n",
        "        x\n",
        "\n",
        "        Returns\n",
        "        -------\n",
        "        output : Result after running through the model\n",
        "        \"\"\"\n",
        "        \n",
        "        # TODO\n",
        "        x = self.conv1(x)\n",
        "        x = F.relu(x)\n",
        "        x = F.max_pool2d(x,2)\n",
        "        x = self.conv2(x)\n",
        "        x = F.relu(x)\n",
        "        x = F.max_pool2d(x,2)\n",
        "        x = self.conv3(x)\n",
        "        x = F.relu(x)\n",
        "        x = F.max_pool2d(x,8)\n",
        "        x = torch.flatten(x,1)\n",
        "        x = self.fc1(x)\n",
        "        return x\n",
        "\n",
        "        "
      ],
      "execution_count": 11,
      "outputs": []
    },
    {
      "cell_type": "markdown",
      "metadata": {
        "id": "UjEH5jIhwnet"
      },
      "source": [
        "### Q2.3 Instantiate the model and run this using an SGD optimizer, with the appropriate loss function for classification\n",
        "\n",
        "Report the learning curves (training and validation accuracy vs number of epochs)"
      ]
    },
    {
      "cell_type": "code",
      "metadata": {
        "id": "_oG1E-YRu4Cj",
        "outputId": "edfbcb6e-c5a7-49b6-a1e5-30ecd59f5117",
        "colab": {
          "base_uri": "https://localhost:8080/",
          "height": 1000,
          "referenced_widgets": [
            "772e4bc272e94a469ffc401698837bb4",
            "74e04b559c7545ca8c1b8026b2b90261",
            "d0b5a9a31fce4039bdea704504a5cb44",
            "c98263fd33b9485092856e5831d2fa9c",
            "e8aea624beaa4aaa87b8bd9b32519f79",
            "e028f3ce35c24e28862229c80f2ff0f4",
            "70b21b6abd06410982f4c264d357ea22",
            "662e6e91ae614413a74c075fcf62dbf4"
          ]
        }
      },
      "source": [
        "# TODO : Initialize the model and cast to correct device\n",
        "model = ShallowConvnet(input_channels=3, num_classes=10).to(device)\n",
        "# TODO : Initialize the criterion\n",
        "criterion = nn.CrossEntropyLoss()\n",
        "# TODO : Initialize the SGD optimizer with lr 1e-3\n",
        "optimizer = optim.SGD(model.parameters(), lr=1e-3)\n",
        "# TODO : Run the training loop using this model\n",
        "train_losses_shallow, train_accuracies_shallow, val_losses_shallow, val_accuracies_shallow = train_loop(model, criterion, optimizer,  train_loader, val_loader)\n"
      ],
      "execution_count": 76,
      "outputs": [
        {
          "output_type": "display_data",
          "data": {
            "application/vnd.jupyter.widget-view+json": {
              "model_id": "772e4bc272e94a469ffc401698837bb4",
              "version_minor": 0,
              "version_major": 2
            },
            "text/plain": [
              "HBox(children=(FloatProgress(value=0.0, max=150.0), HTML(value='')))"
            ]
          },
          "metadata": {
            "tags": []
          }
        },
        {
          "output_type": "stream",
          "text": [
            "[EPOCH]: 0, [TRAIN LOSS]: 2.273344, [TRAIN ACCURACY]: 0.143\n",
            "[EPOCH]: 0, [VAL LOSS]: 2.242775, [VAL ACCURACY]: 0.224 \n",
            "\n",
            "[EPOCH]: 1, [TRAIN LOSS]: 2.221400, [TRAIN ACCURACY]: 0.255\n",
            "[EPOCH]: 1, [VAL LOSS]: 2.184816, [VAL ACCURACY]: 0.276 \n",
            "\n",
            "[EPOCH]: 2, [TRAIN LOSS]: 2.159234, [TRAIN ACCURACY]: 0.278\n",
            "[EPOCH]: 2, [VAL LOSS]: 2.122106, [VAL ACCURACY]: 0.285 \n",
            "\n",
            "[EPOCH]: 3, [TRAIN LOSS]: 2.098439, [TRAIN ACCURACY]: 0.289\n",
            "[EPOCH]: 3, [VAL LOSS]: 2.064592, [VAL ACCURACY]: 0.299 \n",
            "\n",
            "[EPOCH]: 4, [TRAIN LOSS]: 2.043732, [TRAIN ACCURACY]: 0.302\n",
            "[EPOCH]: 4, [VAL LOSS]: 2.013900, [VAL ACCURACY]: 0.300 \n",
            "\n",
            "[EPOCH]: 5, [TRAIN LOSS]: 1.996311, [TRAIN ACCURACY]: 0.311\n",
            "[EPOCH]: 5, [VAL LOSS]: 1.969298, [VAL ACCURACY]: 0.317 \n",
            "\n",
            "[EPOCH]: 6, [TRAIN LOSS]: 1.954255, [TRAIN ACCURACY]: 0.320\n",
            "[EPOCH]: 6, [VAL LOSS]: 1.928799, [VAL ACCURACY]: 0.330 \n",
            "\n",
            "[EPOCH]: 7, [TRAIN LOSS]: 1.916553, [TRAIN ACCURACY]: 0.331\n",
            "[EPOCH]: 7, [VAL LOSS]: 1.892205, [VAL ACCURACY]: 0.346 \n",
            "\n",
            "[EPOCH]: 8, [TRAIN LOSS]: 1.881131, [TRAIN ACCURACY]: 0.344\n",
            "[EPOCH]: 8, [VAL LOSS]: 1.856970, [VAL ACCURACY]: 0.354 \n",
            "\n",
            "[EPOCH]: 9, [TRAIN LOSS]: 1.846598, [TRAIN ACCURACY]: 0.357\n",
            "[EPOCH]: 9, [VAL LOSS]: 1.823687, [VAL ACCURACY]: 0.365 \n",
            "\n",
            "[EPOCH]: 10, [TRAIN LOSS]: 1.812975, [TRAIN ACCURACY]: 0.369\n",
            "[EPOCH]: 10, [VAL LOSS]: 1.789130, [VAL ACCURACY]: 0.386 \n",
            "\n",
            "[EPOCH]: 11, [TRAIN LOSS]: 1.779993, [TRAIN ACCURACY]: 0.381\n",
            "[EPOCH]: 11, [VAL LOSS]: 1.755240, [VAL ACCURACY]: 0.390 \n",
            "\n",
            "[EPOCH]: 12, [TRAIN LOSS]: 1.747726, [TRAIN ACCURACY]: 0.391\n",
            "[EPOCH]: 12, [VAL LOSS]: 1.725304, [VAL ACCURACY]: 0.397 \n",
            "\n",
            "[EPOCH]: 13, [TRAIN LOSS]: 1.717645, [TRAIN ACCURACY]: 0.399\n",
            "[EPOCH]: 13, [VAL LOSS]: 1.695011, [VAL ACCURACY]: 0.416 \n",
            "\n",
            "[EPOCH]: 14, [TRAIN LOSS]: 1.689690, [TRAIN ACCURACY]: 0.408\n",
            "[EPOCH]: 14, [VAL LOSS]: 1.669359, [VAL ACCURACY]: 0.419 \n",
            "\n",
            "[EPOCH]: 15, [TRAIN LOSS]: 1.663655, [TRAIN ACCURACY]: 0.418\n",
            "[EPOCH]: 15, [VAL LOSS]: 1.645680, [VAL ACCURACY]: 0.428 \n",
            "\n",
            "[EPOCH]: 16, [TRAIN LOSS]: 1.640779, [TRAIN ACCURACY]: 0.423\n",
            "[EPOCH]: 16, [VAL LOSS]: 1.630697, [VAL ACCURACY]: 0.425 \n",
            "\n",
            "[EPOCH]: 17, [TRAIN LOSS]: 1.618915, [TRAIN ACCURACY]: 0.432\n",
            "[EPOCH]: 17, [VAL LOSS]: 1.605241, [VAL ACCURACY]: 0.442 \n",
            "\n",
            "[EPOCH]: 18, [TRAIN LOSS]: 1.599446, [TRAIN ACCURACY]: 0.438\n",
            "[EPOCH]: 18, [VAL LOSS]: 1.585114, [VAL ACCURACY]: 0.450 \n",
            "\n",
            "[EPOCH]: 19, [TRAIN LOSS]: 1.580419, [TRAIN ACCURACY]: 0.446\n",
            "[EPOCH]: 19, [VAL LOSS]: 1.574322, [VAL ACCURACY]: 0.455 \n",
            "\n",
            "[EPOCH]: 20, [TRAIN LOSS]: 1.563045, [TRAIN ACCURACY]: 0.453\n",
            "[EPOCH]: 20, [VAL LOSS]: 1.558498, [VAL ACCURACY]: 0.456 \n",
            "\n",
            "[EPOCH]: 21, [TRAIN LOSS]: 1.546754, [TRAIN ACCURACY]: 0.457\n",
            "[EPOCH]: 21, [VAL LOSS]: 1.545144, [VAL ACCURACY]: 0.462 \n",
            "\n",
            "[EPOCH]: 22, [TRAIN LOSS]: 1.529882, [TRAIN ACCURACY]: 0.466\n",
            "[EPOCH]: 22, [VAL LOSS]: 1.523642, [VAL ACCURACY]: 0.472 \n",
            "\n",
            "[EPOCH]: 23, [TRAIN LOSS]: 1.514029, [TRAIN ACCURACY]: 0.470\n",
            "[EPOCH]: 23, [VAL LOSS]: 1.509987, [VAL ACCURACY]: 0.473 \n",
            "\n",
            "[EPOCH]: 24, [TRAIN LOSS]: 1.499656, [TRAIN ACCURACY]: 0.475\n",
            "[EPOCH]: 24, [VAL LOSS]: 1.498561, [VAL ACCURACY]: 0.474 \n",
            "\n",
            "[EPOCH]: 25, [TRAIN LOSS]: 1.484968, [TRAIN ACCURACY]: 0.482\n",
            "[EPOCH]: 25, [VAL LOSS]: 1.482580, [VAL ACCURACY]: 0.484 \n",
            "\n",
            "[EPOCH]: 26, [TRAIN LOSS]: 1.471099, [TRAIN ACCURACY]: 0.487\n",
            "[EPOCH]: 26, [VAL LOSS]: 1.471828, [VAL ACCURACY]: 0.491 \n",
            "\n",
            "[EPOCH]: 27, [TRAIN LOSS]: 1.457692, [TRAIN ACCURACY]: 0.492\n",
            "[EPOCH]: 27, [VAL LOSS]: 1.463034, [VAL ACCURACY]: 0.487 \n",
            "\n",
            "[EPOCH]: 28, [TRAIN LOSS]: 1.444206, [TRAIN ACCURACY]: 0.496\n",
            "[EPOCH]: 28, [VAL LOSS]: 1.447337, [VAL ACCURACY]: 0.499 \n",
            "\n",
            "[EPOCH]: 29, [TRAIN LOSS]: 1.431471, [TRAIN ACCURACY]: 0.501\n",
            "[EPOCH]: 29, [VAL LOSS]: 1.455559, [VAL ACCURACY]: 0.491 \n",
            "\n",
            "[EPOCH]: 30, [TRAIN LOSS]: 1.419129, [TRAIN ACCURACY]: 0.506\n",
            "[EPOCH]: 30, [VAL LOSS]: 1.424260, [VAL ACCURACY]: 0.504 \n",
            "\n",
            "[EPOCH]: 31, [TRAIN LOSS]: 1.406885, [TRAIN ACCURACY]: 0.510\n",
            "[EPOCH]: 31, [VAL LOSS]: 1.420021, [VAL ACCURACY]: 0.507 \n",
            "\n",
            "[EPOCH]: 32, [TRAIN LOSS]: 1.395080, [TRAIN ACCURACY]: 0.517\n",
            "[EPOCH]: 32, [VAL LOSS]: 1.418081, [VAL ACCURACY]: 0.505 \n",
            "\n",
            "[EPOCH]: 33, [TRAIN LOSS]: 1.383252, [TRAIN ACCURACY]: 0.520\n",
            "[EPOCH]: 33, [VAL LOSS]: 1.400945, [VAL ACCURACY]: 0.513 \n",
            "\n",
            "[EPOCH]: 34, [TRAIN LOSS]: 1.372398, [TRAIN ACCURACY]: 0.525\n",
            "[EPOCH]: 34, [VAL LOSS]: 1.396822, [VAL ACCURACY]: 0.514 \n",
            "\n",
            "[EPOCH]: 35, [TRAIN LOSS]: 1.362021, [TRAIN ACCURACY]: 0.527\n",
            "[EPOCH]: 35, [VAL LOSS]: 1.380656, [VAL ACCURACY]: 0.522 \n",
            "\n",
            "[EPOCH]: 36, [TRAIN LOSS]: 1.350102, [TRAIN ACCURACY]: 0.535\n",
            "[EPOCH]: 36, [VAL LOSS]: 1.364360, [VAL ACCURACY]: 0.528 \n",
            "\n",
            "[EPOCH]: 37, [TRAIN LOSS]: 1.341306, [TRAIN ACCURACY]: 0.536\n",
            "[EPOCH]: 37, [VAL LOSS]: 1.365786, [VAL ACCURACY]: 0.527 \n",
            "\n",
            "[EPOCH]: 38, [TRAIN LOSS]: 1.330458, [TRAIN ACCURACY]: 0.540\n",
            "[EPOCH]: 38, [VAL LOSS]: 1.356366, [VAL ACCURACY]: 0.529 \n",
            "\n",
            "[EPOCH]: 39, [TRAIN LOSS]: 1.319636, [TRAIN ACCURACY]: 0.543\n",
            "[EPOCH]: 39, [VAL LOSS]: 1.351937, [VAL ACCURACY]: 0.535 \n",
            "\n",
            "[EPOCH]: 40, [TRAIN LOSS]: 1.309978, [TRAIN ACCURACY]: 0.546\n",
            "[EPOCH]: 40, [VAL LOSS]: 1.333203, [VAL ACCURACY]: 0.536 \n",
            "\n",
            "[EPOCH]: 41, [TRAIN LOSS]: 1.300592, [TRAIN ACCURACY]: 0.551\n",
            "[EPOCH]: 41, [VAL LOSS]: 1.326228, [VAL ACCURACY]: 0.538 \n",
            "\n",
            "[EPOCH]: 42, [TRAIN LOSS]: 1.292659, [TRAIN ACCURACY]: 0.553\n",
            "[EPOCH]: 42, [VAL LOSS]: 1.319471, [VAL ACCURACY]: 0.540 \n",
            "\n",
            "[EPOCH]: 43, [TRAIN LOSS]: 1.283116, [TRAIN ACCURACY]: 0.556\n",
            "[EPOCH]: 43, [VAL LOSS]: 1.323076, [VAL ACCURACY]: 0.540 \n",
            "\n",
            "[EPOCH]: 44, [TRAIN LOSS]: 1.273633, [TRAIN ACCURACY]: 0.561\n",
            "[EPOCH]: 44, [VAL LOSS]: 1.309344, [VAL ACCURACY]: 0.547 \n",
            "\n",
            "[EPOCH]: 45, [TRAIN LOSS]: 1.264734, [TRAIN ACCURACY]: 0.564\n",
            "[EPOCH]: 45, [VAL LOSS]: 1.295426, [VAL ACCURACY]: 0.550 \n",
            "\n",
            "[EPOCH]: 46, [TRAIN LOSS]: 1.256460, [TRAIN ACCURACY]: 0.566\n",
            "[EPOCH]: 46, [VAL LOSS]: 1.291378, [VAL ACCURACY]: 0.552 \n",
            "\n",
            "[EPOCH]: 47, [TRAIN LOSS]: 1.247272, [TRAIN ACCURACY]: 0.571\n",
            "[EPOCH]: 47, [VAL LOSS]: 1.282481, [VAL ACCURACY]: 0.555 \n",
            "\n",
            "[EPOCH]: 48, [TRAIN LOSS]: 1.240211, [TRAIN ACCURACY]: 0.570\n",
            "[EPOCH]: 48, [VAL LOSS]: 1.290258, [VAL ACCURACY]: 0.550 \n",
            "\n",
            "[EPOCH]: 49, [TRAIN LOSS]: 1.231794, [TRAIN ACCURACY]: 0.575\n",
            "[EPOCH]: 49, [VAL LOSS]: 1.313728, [VAL ACCURACY]: 0.540 \n",
            "\n",
            "[EPOCH]: 50, [TRAIN LOSS]: 1.224315, [TRAIN ACCURACY]: 0.577\n",
            "[EPOCH]: 50, [VAL LOSS]: 1.279675, [VAL ACCURACY]: 0.553 \n",
            "\n",
            "[EPOCH]: 51, [TRAIN LOSS]: 1.216180, [TRAIN ACCURACY]: 0.581\n",
            "[EPOCH]: 51, [VAL LOSS]: 1.256412, [VAL ACCURACY]: 0.561 \n",
            "\n",
            "[EPOCH]: 52, [TRAIN LOSS]: 1.207576, [TRAIN ACCURACY]: 0.583\n",
            "[EPOCH]: 52, [VAL LOSS]: 1.280158, [VAL ACCURACY]: 0.555 \n",
            "\n",
            "[EPOCH]: 53, [TRAIN LOSS]: 1.201690, [TRAIN ACCURACY]: 0.587\n",
            "[EPOCH]: 53, [VAL LOSS]: 1.257745, [VAL ACCURACY]: 0.566 \n",
            "\n",
            "[EPOCH]: 54, [TRAIN LOSS]: 1.192858, [TRAIN ACCURACY]: 0.589\n",
            "[EPOCH]: 54, [VAL LOSS]: 1.244298, [VAL ACCURACY]: 0.569 \n",
            "\n",
            "[EPOCH]: 55, [TRAIN LOSS]: 1.186086, [TRAIN ACCURACY]: 0.592\n",
            "[EPOCH]: 55, [VAL LOSS]: 1.245585, [VAL ACCURACY]: 0.567 \n",
            "\n",
            "[EPOCH]: 56, [TRAIN LOSS]: 1.177880, [TRAIN ACCURACY]: 0.595\n",
            "[EPOCH]: 56, [VAL LOSS]: 1.249783, [VAL ACCURACY]: 0.570 \n",
            "\n",
            "[EPOCH]: 57, [TRAIN LOSS]: 1.172092, [TRAIN ACCURACY]: 0.597\n",
            "[EPOCH]: 57, [VAL LOSS]: 1.233562, [VAL ACCURACY]: 0.574 \n",
            "\n",
            "[EPOCH]: 58, [TRAIN LOSS]: 1.165791, [TRAIN ACCURACY]: 0.599\n",
            "[EPOCH]: 58, [VAL LOSS]: 1.272631, [VAL ACCURACY]: 0.548 \n",
            "\n",
            "[EPOCH]: 59, [TRAIN LOSS]: 1.157105, [TRAIN ACCURACY]: 0.600\n",
            "[EPOCH]: 59, [VAL LOSS]: 1.238716, [VAL ACCURACY]: 0.570 \n",
            "\n",
            "[EPOCH]: 60, [TRAIN LOSS]: 1.150088, [TRAIN ACCURACY]: 0.606\n",
            "[EPOCH]: 60, [VAL LOSS]: 1.217920, [VAL ACCURACY]: 0.574 \n",
            "\n",
            "[EPOCH]: 61, [TRAIN LOSS]: 1.145565, [TRAIN ACCURACY]: 0.607\n",
            "[EPOCH]: 61, [VAL LOSS]: 1.235030, [VAL ACCURACY]: 0.576 \n",
            "\n",
            "[EPOCH]: 62, [TRAIN LOSS]: 1.138093, [TRAIN ACCURACY]: 0.610\n",
            "[EPOCH]: 62, [VAL LOSS]: 1.220882, [VAL ACCURACY]: 0.580 \n",
            "\n",
            "[EPOCH]: 63, [TRAIN LOSS]: 1.132375, [TRAIN ACCURACY]: 0.610\n",
            "[EPOCH]: 63, [VAL LOSS]: 1.218784, [VAL ACCURACY]: 0.577 \n",
            "\n",
            "[EPOCH]: 64, [TRAIN LOSS]: 1.126019, [TRAIN ACCURACY]: 0.611\n",
            "[EPOCH]: 64, [VAL LOSS]: 1.197246, [VAL ACCURACY]: 0.587 \n",
            "\n",
            "[EPOCH]: 65, [TRAIN LOSS]: 1.119505, [TRAIN ACCURACY]: 0.617\n",
            "[EPOCH]: 65, [VAL LOSS]: 1.212152, [VAL ACCURACY]: 0.578 \n",
            "\n",
            "[EPOCH]: 66, [TRAIN LOSS]: 1.111860, [TRAIN ACCURACY]: 0.617\n",
            "[EPOCH]: 66, [VAL LOSS]: 1.210467, [VAL ACCURACY]: 0.586 \n",
            "\n",
            "[EPOCH]: 67, [TRAIN LOSS]: 1.107935, [TRAIN ACCURACY]: 0.621\n",
            "[EPOCH]: 67, [VAL LOSS]: 1.194982, [VAL ACCURACY]: 0.586 \n",
            "\n",
            "[EPOCH]: 68, [TRAIN LOSS]: 1.101309, [TRAIN ACCURACY]: 0.623\n",
            "[EPOCH]: 68, [VAL LOSS]: 1.193099, [VAL ACCURACY]: 0.592 \n",
            "\n",
            "[EPOCH]: 69, [TRAIN LOSS]: 1.094449, [TRAIN ACCURACY]: 0.625\n",
            "[EPOCH]: 69, [VAL LOSS]: 1.221052, [VAL ACCURACY]: 0.569 \n",
            "\n",
            "[EPOCH]: 70, [TRAIN LOSS]: 1.087361, [TRAIN ACCURACY]: 0.629\n",
            "[EPOCH]: 70, [VAL LOSS]: 1.190154, [VAL ACCURACY]: 0.585 \n",
            "\n",
            "[EPOCH]: 71, [TRAIN LOSS]: 1.082446, [TRAIN ACCURACY]: 0.629\n",
            "[EPOCH]: 71, [VAL LOSS]: 1.173507, [VAL ACCURACY]: 0.595 \n",
            "\n",
            "[EPOCH]: 72, [TRAIN LOSS]: 1.075998, [TRAIN ACCURACY]: 0.632\n",
            "[EPOCH]: 72, [VAL LOSS]: 1.181251, [VAL ACCURACY]: 0.595 \n",
            "\n",
            "[EPOCH]: 73, [TRAIN LOSS]: 1.071950, [TRAIN ACCURACY]: 0.633\n",
            "[EPOCH]: 73, [VAL LOSS]: 1.172084, [VAL ACCURACY]: 0.594 \n",
            "\n",
            "[EPOCH]: 74, [TRAIN LOSS]: 1.065234, [TRAIN ACCURACY]: 0.636\n",
            "[EPOCH]: 74, [VAL LOSS]: 1.170941, [VAL ACCURACY]: 0.597 \n",
            "\n",
            "[EPOCH]: 75, [TRAIN LOSS]: 1.059637, [TRAIN ACCURACY]: 0.637\n",
            "[EPOCH]: 75, [VAL LOSS]: 1.167153, [VAL ACCURACY]: 0.591 \n",
            "\n",
            "[EPOCH]: 76, [TRAIN LOSS]: 1.055150, [TRAIN ACCURACY]: 0.640\n",
            "[EPOCH]: 76, [VAL LOSS]: 1.195017, [VAL ACCURACY]: 0.585 \n",
            "\n",
            "[EPOCH]: 77, [TRAIN LOSS]: 1.048126, [TRAIN ACCURACY]: 0.642\n",
            "[EPOCH]: 77, [VAL LOSS]: 1.162664, [VAL ACCURACY]: 0.601 \n",
            "\n",
            "[EPOCH]: 78, [TRAIN LOSS]: 1.042317, [TRAIN ACCURACY]: 0.646\n",
            "[EPOCH]: 78, [VAL LOSS]: 1.135308, [VAL ACCURACY]: 0.606 \n",
            "\n",
            "[EPOCH]: 79, [TRAIN LOSS]: 1.037218, [TRAIN ACCURACY]: 0.646\n",
            "[EPOCH]: 79, [VAL LOSS]: 1.163178, [VAL ACCURACY]: 0.596 \n",
            "\n",
            "[EPOCH]: 80, [TRAIN LOSS]: 1.032156, [TRAIN ACCURACY]: 0.647\n",
            "[EPOCH]: 80, [VAL LOSS]: 1.142412, [VAL ACCURACY]: 0.603 \n",
            "\n",
            "[EPOCH]: 81, [TRAIN LOSS]: 1.026293, [TRAIN ACCURACY]: 0.651\n",
            "[EPOCH]: 81, [VAL LOSS]: 1.155277, [VAL ACCURACY]: 0.605 \n",
            "\n",
            "[EPOCH]: 82, [TRAIN LOSS]: 1.021608, [TRAIN ACCURACY]: 0.651\n",
            "[EPOCH]: 82, [VAL LOSS]: 1.160782, [VAL ACCURACY]: 0.598 \n",
            "\n",
            "[EPOCH]: 83, [TRAIN LOSS]: 1.017567, [TRAIN ACCURACY]: 0.655\n",
            "[EPOCH]: 83, [VAL LOSS]: 1.149793, [VAL ACCURACY]: 0.602 \n",
            "\n",
            "[EPOCH]: 84, [TRAIN LOSS]: 1.012270, [TRAIN ACCURACY]: 0.655\n",
            "[EPOCH]: 84, [VAL LOSS]: 1.164089, [VAL ACCURACY]: 0.601 \n",
            "\n",
            "[EPOCH]: 85, [TRAIN LOSS]: 1.006538, [TRAIN ACCURACY]: 0.657\n",
            "[EPOCH]: 85, [VAL LOSS]: 1.107048, [VAL ACCURACY]: 0.618 \n",
            "\n",
            "[EPOCH]: 86, [TRAIN LOSS]: 1.001223, [TRAIN ACCURACY]: 0.659\n",
            "[EPOCH]: 86, [VAL LOSS]: 1.181361, [VAL ACCURACY]: 0.589 \n",
            "\n",
            "[EPOCH]: 87, [TRAIN LOSS]: 0.997045, [TRAIN ACCURACY]: 0.661\n",
            "[EPOCH]: 87, [VAL LOSS]: 1.131041, [VAL ACCURACY]: 0.610 \n",
            "\n",
            "[EPOCH]: 88, [TRAIN LOSS]: 0.991615, [TRAIN ACCURACY]: 0.663\n",
            "[EPOCH]: 88, [VAL LOSS]: 1.147868, [VAL ACCURACY]: 0.603 \n",
            "\n",
            "[EPOCH]: 89, [TRAIN LOSS]: 0.986390, [TRAIN ACCURACY]: 0.665\n",
            "[EPOCH]: 89, [VAL LOSS]: 1.114017, [VAL ACCURACY]: 0.609 \n",
            "\n",
            "[EPOCH]: 90, [TRAIN LOSS]: 0.981199, [TRAIN ACCURACY]: 0.665\n",
            "[EPOCH]: 90, [VAL LOSS]: 1.129545, [VAL ACCURACY]: 0.610 \n",
            "\n",
            "[EPOCH]: 91, [TRAIN LOSS]: 0.977478, [TRAIN ACCURACY]: 0.669\n",
            "[EPOCH]: 91, [VAL LOSS]: 1.115369, [VAL ACCURACY]: 0.615 \n",
            "\n",
            "[EPOCH]: 92, [TRAIN LOSS]: 0.971982, [TRAIN ACCURACY]: 0.670\n",
            "[EPOCH]: 92, [VAL LOSS]: 1.108808, [VAL ACCURACY]: 0.615 \n",
            "\n",
            "[EPOCH]: 93, [TRAIN LOSS]: 0.964805, [TRAIN ACCURACY]: 0.673\n",
            "[EPOCH]: 93, [VAL LOSS]: 1.100226, [VAL ACCURACY]: 0.624 \n",
            "\n",
            "[EPOCH]: 94, [TRAIN LOSS]: 0.960816, [TRAIN ACCURACY]: 0.674\n",
            "[EPOCH]: 94, [VAL LOSS]: 1.122298, [VAL ACCURACY]: 0.611 \n",
            "\n",
            "[EPOCH]: 95, [TRAIN LOSS]: 0.957753, [TRAIN ACCURACY]: 0.675\n",
            "[EPOCH]: 95, [VAL LOSS]: 1.090986, [VAL ACCURACY]: 0.622 \n",
            "\n",
            "[EPOCH]: 96, [TRAIN LOSS]: 0.952565, [TRAIN ACCURACY]: 0.676\n",
            "[EPOCH]: 96, [VAL LOSS]: 1.098955, [VAL ACCURACY]: 0.617 \n",
            "\n",
            "[EPOCH]: 97, [TRAIN LOSS]: 0.947537, [TRAIN ACCURACY]: 0.679\n",
            "[EPOCH]: 97, [VAL LOSS]: 1.091533, [VAL ACCURACY]: 0.624 \n",
            "\n",
            "[EPOCH]: 98, [TRAIN LOSS]: 0.943597, [TRAIN ACCURACY]: 0.679\n",
            "[EPOCH]: 98, [VAL LOSS]: 1.078286, [VAL ACCURACY]: 0.627 \n",
            "\n",
            "[EPOCH]: 99, [TRAIN LOSS]: 0.939037, [TRAIN ACCURACY]: 0.681\n",
            "[EPOCH]: 99, [VAL LOSS]: 1.180309, [VAL ACCURACY]: 0.591 \n",
            "\n",
            "[EPOCH]: 100, [TRAIN LOSS]: 0.934167, [TRAIN ACCURACY]: 0.683\n",
            "[EPOCH]: 100, [VAL LOSS]: 1.098900, [VAL ACCURACY]: 0.618 \n",
            "\n",
            "[EPOCH]: 101, [TRAIN LOSS]: 0.928491, [TRAIN ACCURACY]: 0.686\n",
            "[EPOCH]: 101, [VAL LOSS]: 1.164657, [VAL ACCURACY]: 0.595 \n",
            "\n",
            "[EPOCH]: 102, [TRAIN LOSS]: 0.922616, [TRAIN ACCURACY]: 0.689\n",
            "[EPOCH]: 102, [VAL LOSS]: 1.067996, [VAL ACCURACY]: 0.634 \n",
            "\n",
            "[EPOCH]: 103, [TRAIN LOSS]: 0.921537, [TRAIN ACCURACY]: 0.687\n",
            "[EPOCH]: 103, [VAL LOSS]: 1.076277, [VAL ACCURACY]: 0.628 \n",
            "\n",
            "[EPOCH]: 104, [TRAIN LOSS]: 0.916099, [TRAIN ACCURACY]: 0.689\n",
            "[EPOCH]: 104, [VAL LOSS]: 1.190187, [VAL ACCURACY]: 0.582 \n",
            "\n",
            "[EPOCH]: 105, [TRAIN LOSS]: 0.911196, [TRAIN ACCURACY]: 0.691\n",
            "[EPOCH]: 105, [VAL LOSS]: 1.082936, [VAL ACCURACY]: 0.629 \n",
            "\n",
            "[EPOCH]: 106, [TRAIN LOSS]: 0.908218, [TRAIN ACCURACY]: 0.691\n",
            "[EPOCH]: 106, [VAL LOSS]: 1.064409, [VAL ACCURACY]: 0.632 \n",
            "\n",
            "[EPOCH]: 107, [TRAIN LOSS]: 0.903358, [TRAIN ACCURACY]: 0.694\n",
            "[EPOCH]: 107, [VAL LOSS]: 1.108920, [VAL ACCURACY]: 0.618 \n",
            "\n",
            "[EPOCH]: 108, [TRAIN LOSS]: 0.898043, [TRAIN ACCURACY]: 0.695\n",
            "[EPOCH]: 108, [VAL LOSS]: 1.084577, [VAL ACCURACY]: 0.626 \n",
            "\n",
            "[EPOCH]: 109, [TRAIN LOSS]: 0.894023, [TRAIN ACCURACY]: 0.697\n",
            "[EPOCH]: 109, [VAL LOSS]: 1.095120, [VAL ACCURACY]: 0.623 \n",
            "\n",
            "[EPOCH]: 110, [TRAIN LOSS]: 0.890179, [TRAIN ACCURACY]: 0.697\n",
            "[EPOCH]: 110, [VAL LOSS]: 1.108582, [VAL ACCURACY]: 0.620 \n",
            "\n",
            "[EPOCH]: 111, [TRAIN LOSS]: 0.887395, [TRAIN ACCURACY]: 0.700\n",
            "[EPOCH]: 111, [VAL LOSS]: 1.143620, [VAL ACCURACY]: 0.605 \n",
            "\n",
            "[EPOCH]: 112, [TRAIN LOSS]: 0.883352, [TRAIN ACCURACY]: 0.703\n",
            "[EPOCH]: 112, [VAL LOSS]: 1.078937, [VAL ACCURACY]: 0.629 \n",
            "\n"
          ],
          "name": "stdout"
        }
      ]
    },
    {
      "cell_type": "code",
      "metadata": {
        "id": "C2vmQxy36ENR",
        "outputId": "8adc103b-908d-4b83-e3b9-f0125956d8d9",
        "colab": {
          "base_uri": "https://localhost:8080/",
          "height": 350
        }
      },
      "source": [
        "fig, [ax1, ax2] = plt.subplots(nrows=1, ncols=2)\n",
        "ax1.set_xlabel('Epoch')\n",
        "ax1.set_ylabel('Loss')\n",
        "ax1.set_title('Loss through epochs')\n",
        "ax1.plot(np.array(val_losses_shallow), 'r', label='validation loss')\n",
        "ax1.plot(np.array(train_losses_shallow), 'b', label='training loss')\n",
        "ax1.legend()\n",
        "\n",
        "ax2.set_xlabel('Epoch')\n",
        "ax2.set_ylabel('Accuracy')\n",
        "ax2.set_title('Accuracy through epochs')\n",
        "ax2.plot(np.array(val_accuracies_shallow), 'r', label='validation accuracy')\n",
        "ax2.plot(np.array(train_accuracies_shallow), 'b', label='training accuracy')\n",
        "ax2.legend()\n",
        "\n",
        "fig.set_figwidth(15)\n",
        "fig.set_figheight(5)"
      ],
      "execution_count": 79,
      "outputs": [
        {
          "output_type": "display_data",
          "data": {
            "image/png": "[encoded data removed]",
            "text/plain": [
              "<Figure size 1080x360 with 2 Axes>"
            ]
          },
          "metadata": {
            "tags": [],
            "needs_background": "light"
          }
        }
      ]
    },
    {
      "cell_type": "markdown",
      "metadata": {
        "id": "cLRvwxlJoFQO"
      },
      "source": [
        "### Q2.4 Simple convolution network - "
      ]
    },
    {
      "cell_type": "markdown",
      "metadata": {
        "id": "lSUz9ljRxRc5"
      },
      "source": [
        "Design a convolutional neural network with the following specification: \n",
        "For each convolution layer, use appropriate padding such that it maintains the resolution of the image. The resolution should be changing only when you introduce maxpooling layers. Each convolution layer should be followed by a relu non-linearity. The first two blocks containing 3 convolutional layers are each followed by a maxpooling layer that halves the resolution of the image. After the third block, use maxpooling to get a resolution of 1 X 1. Finally, apply a linear transformation to project to the number of classes. \n",
        "\n",
        "Structure of the convolution layers of the model:\n",
        "1. Number of input channels to the model = 3\n",
        "2. First convolution layer of kernel size 5 with filter size 64 and padding such that it maintains the resolution of the image.\n",
        "3. Followed by a block of 3 convolution layers of kernel size 3, filter size 64 and padding such that it maintains the resolution of the image.\n",
        "5. Followed by 3 convolution layers of kernel size 3, filter size 128 and padding such that it maintains the resolution of the image.\n",
        "6. Followed by 3 convolution layers of kernel size 3, filter size 256 and padding such that it maintains the resolution of the image. \n",
        "\n",
        "\n"
      ]
    },
    {
      "cell_type": "code",
      "metadata": {
        "id": "GfwKR3uNlsNc"
      },
      "source": [
        "# Use the description of the structure of the model and the hints given below \n",
        "\n",
        "class SimpleConvnet(nn.Module):\n",
        "    def __init__(self, input_channels, num_classes):\n",
        "        super(SimpleConvnet, self).__init__()\n",
        "        # TODO\n",
        "        self.conv1 = nn.Conv2d(in_channels = input_channels, out_channels = 64, kernel_size=5, padding=2)\n",
        "        \n",
        "        # conv block1\n",
        "        self.conv2_1 = nn.Conv2d(in_channels = 64, out_channels = 64, kernel_size=3, padding=1)\n",
        "        self.conv2_2 = nn.Conv2d(in_channels = 64, out_channels = 64, kernel_size=3, padding=1)\n",
        "        self.conv2_3 = nn.Conv2d(in_channels = 64, out_channels = 64, kernel_size=3, padding=1)\n",
        "\n",
        "        # conv block2\n",
        "        self.conv3_1 = nn.Conv2d(in_channels = 64, out_channels = 128, kernel_size=3, padding=1)\n",
        "        self.conv3_2 = nn.Conv2d(in_channels = 128, out_channels = 128, kernel_size=3, padding=1)\n",
        "        self.conv3_3 = nn.Conv2d(in_channels = 128, out_channels = 128, kernel_size=3, padding=1)\n",
        "\n",
        "         # conv block3\n",
        "        self.conv4_1 = nn.Conv2d(in_channels = 128, out_channels = 256, kernel_size=3, padding=1)\n",
        "        self.conv4_2 = nn.Conv2d(in_channels = 256, out_channels = 256, kernel_size=3, padding=1)\n",
        "        self.conv4_3 = nn.Conv2d(in_channels = 256, out_channels = 256, kernel_size=3, padding=1)\n",
        "\n",
        "        self.fc1 = nn.Linear(256,num_classes)\n",
        "\n",
        "\n",
        "    \n",
        "    def forward(self, x):\n",
        "       \n",
        "        # TODO \n",
        "        # HINT: first conv layer \n",
        "        x = self.conv1(x)\n",
        "        x = F.relu(x)    \n",
        "\n",
        "        # HINT: block of 3 conv \n",
        "        x = self.conv2_1(x)\n",
        "        x = self.conv2_2(x)\n",
        "        x = self.conv2_3(x)\n",
        "        x = F.relu(x)\n",
        "        x = F.max_pool2d(x,2)\n",
        "\n",
        "        \n",
        "        # HINT : block of 3 conv \n",
        "        x = self.conv3_1(x)\n",
        "        x = self.conv3_2(x)\n",
        "        x = self.conv3_3(x)\n",
        "        x = F.relu(x)\n",
        "        x = F.max_pool2d(x,2)\n",
        "\n",
        "\n",
        "        # HINT: block of 3 conv \n",
        "        x = self.conv4_1(x)\n",
        "        x = self.conv4_2(x)\n",
        "        x = self.conv4_3(x)\n",
        "        x = F.relu(x)\n",
        "        x = F.max_pool2d(x,8)\n",
        "\n",
        "        # HINT: projection\n",
        "        x = torch.flatten(x,1)\n",
        "        x = self.fc1(x)\n",
        "        return x\n",
        "        "
      ],
      "execution_count": 80,
      "outputs": []
    },
    {
      "cell_type": "code",
      "metadata": {
        "id": "q_WKoU3ewH2B"
      },
      "source": [
        "# TODO : Initialize the model and cast to correct device\n",
        "conv1_model = SimpleConvnet(input_channels=3, num_classes=10).to(device)\n",
        "# TODO : Initialize the criterion \n",
        "criterion = nn.CrossEntropyLoss()\n",
        "# TODO : Initialize the optimizer \n",
        "optimizer = optim.SGD(conv1_model.parameters(), lr=1e-3)\n",
        "# TODO : Run the training loop using this model\n",
        "train_losses_conv1, train_accuracies_conv1, val_losses_conv1, val_accuracies_conv1 = train_loop(conv1_model, criterion, optimizer,  train_loader, val_loader)"
      ],
      "execution_count": null,
      "outputs": []
    },
    {
      "cell_type": "code",
      "metadata": {
        "id": "TjNJJmwz2oHS",
        "outputId": "ccb8b948-a85d-47bc-d42d-20b5b1167de7",
        "colab": {
          "base_uri": "https://localhost:8080/",
          "height": 730
        }
      },
      "source": [
        "fig, [[ax1, ax2],[ax3,ax4]] = plt.subplots(nrows=2, ncols=2)\n",
        "ax1.set_xlabel('Epoch')\n",
        "ax1.set_ylabel('Loss')\n",
        "ax1.set_title('SimpleConvnet: loss through epochs')\n",
        "ax1.plot(np.array(val_losses_conv1), 'r', label='validation loss')\n",
        "ax1.plot(np.array(train_losses_conv1), 'b', label='training loss')\n",
        "ax1.legend()\n",
        "\n",
        "ax2.set_xlabel('Epoch')\n",
        "ax2.set_ylabel('Accuracy')\n",
        "ax2.set_title('SimpleConvnet: accuracy through epochs')\n",
        "ax2.plot(np.array(val_accuracies_conv1), 'r', label='validation accuracy')\n",
        "ax2.plot(np.array(train_accuracies_conv1), 'b', label='training accuracy')\n",
        "ax2.legend()\n",
        "\n",
        "ax3.set_xlabel('Epoch')\n",
        "ax3.set_ylabel('Loss')\n",
        "ax3.set_title('Shallownet: loss through epochs')\n",
        "ax3.plot(np.array(val_losses_shallow), 'r', label='validation loss')\n",
        "ax3.plot(np.array(train_losses_shallow), 'b', label='training loss')\n",
        "ax3.legend()\n",
        "\n",
        "ax4.set_xlabel('Epoch')\n",
        "ax4.set_ylabel('Accuracy')\n",
        "ax4.set_title('Shallownet: accuracy through epochs')\n",
        "ax4.plot(np.array(val_accuracies_shallow), 'r', label='validation accuracy')\n",
        "ax4.plot(np.array(train_accuracies_shallow), 'b', label='training accuracy')\n",
        "ax4.legend()\n",
        "\n",
        "fig.set_figwidth(15)\n",
        "fig.set_figheight(12)"
      ],
      "execution_count": 82,
      "outputs": [
        {
          "output_type": "display_data",
          "data": {
            "image/png": "[encoded data removed]",
            "text/plain": [
              "<Figure size 1080x864 with 4 Axes>"
            ]
          },
          "metadata": {
            "tags": [],
            "needs_background": "light"
          }
        }
      ]
    },
    {
      "cell_type": "markdown",
      "metadata": {
        "id": "mZRJhVst0BLv"
      },
      "source": [
        "### Q 2.5 Report results of training using SGD optimizer for both ShallowNet and SimpleConvnet. What do you observe?\n",
        "(1) The performance of SimpleConvnet is slightly worse than ShallowNet. It may because SimpleConvnet is much deeper compared with ShallowNet, which makes it harder to train the model. We might need some additional tricks such as batch normalization, resnet to help it perform better and be trained faster. "
      ]
    },
    {
      "cell_type": "markdown",
      "metadata": {
        "id": "uv6ExxBvLL3Y"
      },
      "source": [
        "### Q 2.6 Add batch normalization"
      ]
    },
    {
      "cell_type": "markdown",
      "metadata": {
        "id": "S8IFrRqC0WwA"
      },
      "source": [
        "#### Q2.6 a After each relu layer, add a batch normalization layer to the network SimpleConvnet you created above"
      ]
    },
    {
      "cell_type": "code",
      "metadata": {
        "id": "U7nvtAeBoiUX"
      },
      "source": [
        "class SimpleConvnet2(nn.Module):\n",
        "    def __init__(self, input_channels, num_classes):\n",
        "        super(SimpleConvnet2, self).__init__()\n",
        "        \n",
        "        # TODO\n",
        "        self.conv1 = nn.Conv2d(in_channels = input_channels, out_channels = 64, kernel_size=5, padding=2)\n",
        "        self.conv1_bn = nn.BatchNorm2d(64)\n",
        "\n",
        "        # conv block1\n",
        "        self.conv2_1 = nn.Conv2d(in_channels = 64, out_channels = 64, kernel_size=3, padding=1)\n",
        "        self.conv2_2 = nn.Conv2d(in_channels = 64, out_channels = 64, kernel_size=3, padding=1)\n",
        "        self.conv2_3 = nn.Conv2d(in_channels = 64, out_channels = 64, kernel_size=3, padding=1)\n",
        "        self.conv2_bn = nn.BatchNorm2d(64)\n",
        "\n",
        "        # conv block2\n",
        "        self.conv3_1 = nn.Conv2d(in_channels = 64, out_channels = 128, kernel_size=3, padding=1)\n",
        "        self.conv3_2 = nn.Conv2d(in_channels = 128, out_channels = 128, kernel_size=3, padding=1)\n",
        "        self.conv3_3 = nn.Conv2d(in_channels = 128, out_channels = 128, kernel_size=3, padding=1)\n",
        "        self.conv3_bn = nn.BatchNorm2d(128)\n",
        "\n",
        "         # conv block3\n",
        "        self.conv4_1 = nn.Conv2d(in_channels = 128, out_channels = 256, kernel_size=3, padding=1)\n",
        "        self.conv4_2 = nn.Conv2d(in_channels = 256, out_channels = 256, kernel_size=3, padding=1)\n",
        "        self.conv4_3 = nn.Conv2d(in_channels = 256, out_channels = 256, kernel_size=3, padding=1)\n",
        "        self.conv4_bn = nn.BatchNorm2d(256)\n",
        "\n",
        "\n",
        "        self.fc1 = nn.Linear(256,num_classes)\n",
        "\n",
        "    def forward(self, x):\n",
        "       \n",
        "       # TODO\n",
        "        x = self.conv1(x)\n",
        "        x = F.relu(x)\n",
        "        x = self.conv1_bn(x)    \n",
        "\n",
        "        # HINT: block of 3 conv \n",
        "        x = self.conv2_1(x)\n",
        "        x = self.conv2_2(x)\n",
        "        x = self.conv2_3(x)\n",
        "        x = F.relu(x)\n",
        "        x = self.conv2_bn(x)\n",
        "        x = F.max_pool2d(x,2)\n",
        "\n",
        "        \n",
        "        # HINT : block of 3 conv \n",
        "        x = self.conv3_1(x)\n",
        "        x = self.conv3_2(x)\n",
        "        x = self.conv3_3(x)\n",
        "        x = F.relu(x)\n",
        "        x = self.conv3_bn(x)\n",
        "        x = F.max_pool2d(x,2)\n",
        "\n",
        "\n",
        "        # HINT: block of 3 conv \n",
        "        x = self.conv4_1(x)\n",
        "        x = self.conv4_2(x)\n",
        "        x = self.conv4_3(x)\n",
        "        x = F.relu(x)\n",
        "        x = self.conv4_bn(x)\n",
        "        x = F.max_pool2d(x,8)\n",
        "\n",
        "        # HINT: projection\n",
        "        x = torch.flatten(x,1)\n",
        "        x = self.fc1(x)\n",
        "        return x\n",
        "        "
      ],
      "execution_count": 83,
      "outputs": []
    },
    {
      "cell_type": "code",
      "metadata": {
        "id": "hgqQzKV10tz7"
      },
      "source": [
        "# TODO : Initialize the model and cast to correct device\n",
        "conv2_model = SimpleConvnet2(input_channels=3, num_classes=10).to(device)\n",
        "# TODO : Initialize the criterion\n",
        "criterion = nn.CrossEntropyLoss()\n",
        "# TODO : Initialize the SGD optimizer with lr 1e-3\n",
        "optimizer = optim.SGD(conv2_model.parameters(), lr=1e-3)\n",
        "# TODO : Run the training loop using this model\n",
        "train_losses_conv2, train_accuracies_conv2, val_losses_conv2, val_accuracies_conv2 = train_loop(conv2_model, criterion, optimizer,  train_loader, val_loader)\n"
      ],
      "execution_count": null,
      "outputs": []
    },
    {
      "cell_type": "markdown",
      "metadata": {
        "id": "w5wqxHGa0vZe"
      },
      "source": [
        "#### Q2.6 b Plot the the training curves (training loss vs \\# epochs, training accuracy vs # epochs) using SGD (lr 1e-3) with and without batch normalization. Comment on the difference. "
      ]
    },
    {
      "cell_type": "code",
      "metadata": {
        "id": "nGjp90DXVIn-",
        "outputId": "154c73c8-5d0f-4fb0-a8a3-7b3a87354165",
        "colab": {
          "base_uri": "https://localhost:8080/",
          "height": 716
        }
      },
      "source": [
        "fig, [[ax1, ax2],[ax3,ax4]] = plt.subplots(nrows=2, ncols=2)\n",
        "ax1.set_xlabel('Epoch')\n",
        "ax1.set_ylabel('Loss')\n",
        "ax1.set_title('SimpleConvnet1 without batch normalization: loss through epochs')\n",
        "ax1.plot(np.array(val_losses_conv1), 'r', label='validation loss')\n",
        "ax1.plot(np.array(train_losses_conv1), 'b', label='training loss')\n",
        "ax1.legend()\n",
        "\n",
        "ax2.set_xlabel('Epoch')\n",
        "ax2.set_ylabel('Accuracy')\n",
        "ax2.set_title('SimpleConvnet1 without batch normalization: accuracy through epochs')\n",
        "ax2.plot(np.array(val_accuracies_conv1), 'r', label='validation accuracy')\n",
        "ax2.plot(np.array(train_accuracies_conv1), 'b', label='training accuracy')\n",
        "ax2.legend()\n",
        "\n",
        "ax3.set_xlabel('Epoch')\n",
        "ax3.set_ylabel('Loss')\n",
        "ax3.set_title('SimpleConvnet2 with batch normalization: loss through epochs')\n",
        "ax3.plot(np.array(val_losses_conv2), 'r', label='validation loss')\n",
        "ax3.plot(np.array(train_losses_conv2), 'b', label='training loss')\n",
        "ax3.legend()\n",
        "\n",
        "ax4.set_xlabel('Epoch')\n",
        "ax4.set_ylabel('Accuracy')\n",
        "ax4.set_title('SimpleConvnet2 with batch normalization: accuracy through epochs')\n",
        "ax4.plot(np.array(val_accuracies_conv2), 'r', label='validation accuracy')\n",
        "ax4.plot(np.array(train_accuracies_conv2), 'b', label='training accuracy')\n",
        "ax4.legend()\n",
        "\n",
        "fig.set_figwidth(15)\n",
        "fig.set_figheight(12)"
      ],
      "execution_count": 86,
      "outputs": [
        {
          "output_type": "display_data",
          "data": {
            "image/png": "[encoded data removed]",
            "text/plain": [
              "<Figure size 1080x864 with 4 Axes>"
            ]
          },
          "metadata": {
            "tags": [],
            "needs_background": "light"
          }
        }
      ]
    },
    {
      "cell_type": "markdown",
      "metadata": {
        "id": "PXEbb3SxVwpZ"
      },
      "source": [
        "(1) We can see from the plots that after applying batch normalization, the loss converges much faster than the model without batch normalization. <br>\n",
        "(2) The model trained with batch normalization is more stable and robust than the model trained without batch normalization.<br>\n",
        "(3) The training accuracy and training loss of the model applied batch normalization is way better than the model without batchn normalization.<br>\n",
        "(4) However, the validation loss of the model with batch normalization grows during training, the validation accuracy stays at around 0.6.It shows that the model gets overfitting during the training.\n"
      ]
    },
    {
      "cell_type": "markdown",
      "metadata": {
        "id": "ZW0227y408ej"
      },
      "source": [
        "#### Q2.6 c. Try running the same two networks with an Adam optimizer (lr 1e-4). Plot the the training curves (training loss vs \\# epochs, training accuracy vs # epochs) with and without batch normalization. Comment on the difference. "
      ]
    },
    {
      "cell_type": "code",
      "metadata": {
        "id": "DzA0RdkOXE4q",
        "outputId": "e5ce59ac-d32d-44c8-925a-ec7b87ee8cd0",
        "colab": {
          "base_uri": "https://localhost:8080/",
          "height": 232
        }
      },
      "source": [
        "conv1_model = SimpleConvnet(input_channels=3, num_classes=10).to(device)\n",
        "criterion_conv1 = nn.CrossEntropyLoss()\n",
        "optimizer = optim.Adam(conv1_model.parameters(), lr=1e-4)\n",
        "train_losses_conv1_adam, train_accuracies_conv1_adam, val_losses_conv1_adam, val_accuracies_conv1_adam = train_loop(conv1_model, criterion, optimizer,  train_loader, val_loader)"
      ],
      "execution_count": 4,
      "outputs": [
        {
          "output_type": "error",
          "ename": "NameError",
          "evalue": "ignored",
          "traceback": [
            "\u001b[0;31m---------------------------------------------------------------------------\u001b[0m",
            "\u001b[0;31mNameError\u001b[0m                                 Traceback (most recent call last)",
            "\u001b[0;32m<ipython-input-4-f19fdfa01c5e>\u001b[0m in \u001b[0;36m<module>\u001b[0;34m()\u001b[0m\n\u001b[0;32m----> 1\u001b[0;31m \u001b[0mconv1_model\u001b[0m \u001b[0;34m=\u001b[0m \u001b[0mSimpleConvnet\u001b[0m\u001b[0;34m(\u001b[0m\u001b[0minput_channels\u001b[0m\u001b[0;34m=\u001b[0m\u001b[0;36m3\u001b[0m\u001b[0;34m,\u001b[0m \u001b[0mnum_classes\u001b[0m\u001b[0;34m=\u001b[0m\u001b[0;36m10\u001b[0m\u001b[0;34m)\u001b[0m\u001b[0;34m.\u001b[0m\u001b[0mto\u001b[0m\u001b[0;34m(\u001b[0m\u001b[0mdevice\u001b[0m\u001b[0;34m)\u001b[0m\u001b[0;34m\u001b[0m\u001b[0;34m\u001b[0m\u001b[0m\n\u001b[0m\u001b[1;32m      2\u001b[0m \u001b[0mcriterion_conv1\u001b[0m \u001b[0;34m=\u001b[0m \u001b[0mnn\u001b[0m\u001b[0;34m.\u001b[0m\u001b[0mCrossEntropyLoss\u001b[0m\u001b[0;34m(\u001b[0m\u001b[0;34m)\u001b[0m\u001b[0;34m\u001b[0m\u001b[0;34m\u001b[0m\u001b[0m\n\u001b[1;32m      3\u001b[0m \u001b[0moptimizer\u001b[0m \u001b[0;34m=\u001b[0m \u001b[0moptim\u001b[0m\u001b[0;34m.\u001b[0m\u001b[0mAdam\u001b[0m\u001b[0;34m(\u001b[0m\u001b[0mconv1_model\u001b[0m\u001b[0;34m.\u001b[0m\u001b[0mparameters\u001b[0m\u001b[0;34m(\u001b[0m\u001b[0;34m)\u001b[0m\u001b[0;34m,\u001b[0m \u001b[0mlr\u001b[0m\u001b[0;34m=\u001b[0m\u001b[0;36m1e-4\u001b[0m\u001b[0;34m)\u001b[0m\u001b[0;34m\u001b[0m\u001b[0;34m\u001b[0m\u001b[0m\n\u001b[1;32m      4\u001b[0m \u001b[0mtrain_losses_conv1_adam\u001b[0m\u001b[0;34m,\u001b[0m \u001b[0mtrain_accuracies_conv1_adam\u001b[0m\u001b[0;34m,\u001b[0m \u001b[0mval_losses_conv1_adam\u001b[0m\u001b[0;34m,\u001b[0m \u001b[0mval_accuracies_conv1_adam\u001b[0m \u001b[0;34m=\u001b[0m \u001b[0mtrain_loop\u001b[0m\u001b[0;34m(\u001b[0m\u001b[0mconv1_model\u001b[0m\u001b[0;34m,\u001b[0m \u001b[0mcriterion\u001b[0m\u001b[0;34m,\u001b[0m \u001b[0moptimizer\u001b[0m\u001b[0;34m,\u001b[0m  \u001b[0mtrain_loader\u001b[0m\u001b[0;34m,\u001b[0m \u001b[0mval_loader\u001b[0m\u001b[0;34m)\u001b[0m\u001b[0;34m\u001b[0m\u001b[0;34m\u001b[0m\u001b[0m\n",
            "\u001b[0;31mNameError\u001b[0m: name 'SimpleConvnet' is not defined"
          ]
        }
      ]
    },
    {
      "cell_type": "code",
      "metadata": {
        "id": "Xd8sdeJfen7R"
      },
      "source": [
        "conv2_model = SimpleConvnet2(input_channels=3, num_classes=10).to(device)\n",
        "criterion_conv2 = nn.CrossEntropyLoss()\n",
        "optimizer_conv2 = optim.Adam(conv2_model.parameters(), lr=1e-4)\n",
        "train_losses_conv2_adam, train_accuracies_conv2_adam, val_losses_conv2_adam, val_accuracies_conv2_adam = train_loop(conv2_model, criterion_conv2, optimizer_conv2,  train_loader, val_loader)\n"
      ],
      "execution_count": null,
      "outputs": []
    },
    {
      "cell_type": "code",
      "metadata": {
        "id": "rNwfpGaLl58C",
        "outputId": "e32c5e49-a1ef-4d93-daed-0e4416691af5",
        "colab": {
          "base_uri": "https://localhost:8080/",
          "height": 496
        }
      },
      "source": [
        "fig, [[ax1, ax2],[ax3,ax4]] = plt.subplots(nrows=2, ncols=2)\n",
        "ax1.set_xlabel('Epoch')\n",
        "ax1.set_ylabel('Loss')\n",
        "ax1.set_title('SimpleConvnet1+Adam without batch normalization: loss through epochs')\n",
        "ax1.plot(np.array(val_losses_conv1_adam), 'r', label='validation loss')\n",
        "ax1.plot(np.array(train_losses_conv1_adam), 'b', label='training loss')\n",
        "ax1.legend()\n",
        "\n",
        "ax2.set_xlabel('Epoch')\n",
        "ax2.set_ylabel('Accuracy')\n",
        "ax2.set_title('SimpleConvnet1+Adam without batch normalization: accuracy through epochs')\n",
        "ax2.plot(np.array(val_accuracies_conv1_adam), 'r', label='validation accuracy')\n",
        "ax2.plot(np.array(train_accuracies_conv1_adam), 'b', label='training accuracy')\n",
        "ax2.legend()\n",
        "\n",
        "ax3.set_xlabel('Epoch')\n",
        "ax3.set_ylabel('Loss')\n",
        "ax3.set_title('SimpleConvnet2+Adam with batch normalization: loss through epochs')\n",
        "ax3.plot(np.array(val_losses_conv2_adam), 'r', label='validation loss')\n",
        "ax3.plot(np.array(train_losses_conv2_adam), 'b', label='training loss')\n",
        "ax3.legend()\n",
        "\n",
        "ax4.set_xlabel('Epoch')\n",
        "ax4.set_ylabel('Accuracy')\n",
        "ax4.set_title('SimpleConvnet2+Adam with batch normalization: accuracy through epochs')\n",
        "ax4.plot(np.array(val_accuracies_conv2_adam), 'r', label='validation accuracy')\n",
        "ax4.plot(np.array(train_accuracies_conv2_adam), 'b', label='training accuracy')\n",
        "ax4.legend()\n",
        "\n",
        "fig.set_figwidth(15)\n",
        "fig.set_figheight(12)"
      ],
      "execution_count": 3,
      "outputs": [
        {
          "output_type": "error",
          "ename": "NameError",
          "evalue": "ignored",
          "traceback": [
            "\u001b[0;31m---------------------------------------------------------------------------\u001b[0m",
            "\u001b[0;31mNameError\u001b[0m                                 Traceback (most recent call last)",
            "\u001b[0;32m<ipython-input-3-dc88b89ba6fb>\u001b[0m in \u001b[0;36m<module>\u001b[0;34m()\u001b[0m\n\u001b[1;32m      3\u001b[0m \u001b[0max1\u001b[0m\u001b[0;34m.\u001b[0m\u001b[0mset_ylabel\u001b[0m\u001b[0;34m(\u001b[0m\u001b[0;34m'Loss'\u001b[0m\u001b[0;34m)\u001b[0m\u001b[0;34m\u001b[0m\u001b[0;34m\u001b[0m\u001b[0m\n\u001b[1;32m      4\u001b[0m \u001b[0max1\u001b[0m\u001b[0;34m.\u001b[0m\u001b[0mset_title\u001b[0m\u001b[0;34m(\u001b[0m\u001b[0;34m'SimpleConvnet1+Adam without batch normalization: loss through epochs'\u001b[0m\u001b[0;34m)\u001b[0m\u001b[0;34m\u001b[0m\u001b[0;34m\u001b[0m\u001b[0m\n\u001b[0;32m----> 5\u001b[0;31m \u001b[0max1\u001b[0m\u001b[0;34m.\u001b[0m\u001b[0mplot\u001b[0m\u001b[0;34m(\u001b[0m\u001b[0mnp\u001b[0m\u001b[0;34m.\u001b[0m\u001b[0marray\u001b[0m\u001b[0;34m(\u001b[0m\u001b[0mval_losses_conv1_adam\u001b[0m\u001b[0;34m)\u001b[0m\u001b[0;34m,\u001b[0m \u001b[0;34m'r'\u001b[0m\u001b[0;34m,\u001b[0m \u001b[0mlabel\u001b[0m\u001b[0;34m=\u001b[0m\u001b[0;34m'validation loss'\u001b[0m\u001b[0;34m)\u001b[0m\u001b[0;34m\u001b[0m\u001b[0;34m\u001b[0m\u001b[0m\n\u001b[0m\u001b[1;32m      6\u001b[0m \u001b[0max1\u001b[0m\u001b[0;34m.\u001b[0m\u001b[0mplot\u001b[0m\u001b[0;34m(\u001b[0m\u001b[0mnp\u001b[0m\u001b[0;34m.\u001b[0m\u001b[0marray\u001b[0m\u001b[0;34m(\u001b[0m\u001b[0mtrain_losses_conv1_adam\u001b[0m\u001b[0;34m)\u001b[0m\u001b[0;34m,\u001b[0m \u001b[0;34m'b'\u001b[0m\u001b[0;34m,\u001b[0m \u001b[0mlabel\u001b[0m\u001b[0;34m=\u001b[0m\u001b[0;34m'training loss'\u001b[0m\u001b[0;34m)\u001b[0m\u001b[0;34m\u001b[0m\u001b[0;34m\u001b[0m\u001b[0m\n\u001b[1;32m      7\u001b[0m \u001b[0max1\u001b[0m\u001b[0;34m.\u001b[0m\u001b[0mlegend\u001b[0m\u001b[0;34m(\u001b[0m\u001b[0;34m)\u001b[0m\u001b[0;34m\u001b[0m\u001b[0;34m\u001b[0m\u001b[0m\n",
            "\u001b[0;31mNameError\u001b[0m: name 'val_losses_conv1_adam' is not defined"
          ]
        },
        {
          "output_type": "display_data",
          "data": {
            "image/png": "[encoded data removed]",
            "text/plain": [
              "<Figure size 432x288 with 4 Axes>"
            ]
          },
          "metadata": {
            "tags": [],
            "needs_background": "light"
          }
        }
      ]
    },
    {
      "cell_type": "markdown",
      "metadata": {
        "id": "XeVzHHciAt-W"
      },
      "source": [
        "#### Q2.6 d Once you choose an optimizer and see that it does train, make sure your model has enough capacity by overfitting on one batch of the data set. You should be able to get 100% train accuracy. \n"
      ]
    },
    {
      "cell_type": "markdown",
      "metadata": {
        "id": "vidYzoKwkIx9"
      },
      "source": [
        ""
      ]
    },
    {
      "cell_type": "markdown",
      "metadata": {
        "id": "ANkTYeTWn6Mv"
      },
      "source": [
        "### Q 2.7 Add residual connections"
      ]
    },
    {
      "cell_type": "markdown",
      "metadata": {
        "id": "A55lJPET13Q7"
      },
      "source": [
        "#### Residual connections help stabilise training and lead to faster convergence. In this question you will introduce residual connections into the SimpleConvnet2 model that you built above. \n",
        "\n",
        "We will add residual connections after each block of 3 convolutional layers. Lets consider the first block of three convolutional layers. The input to this block, the so called residual, is added to the output of the block before the final batch normalization layer of that block. \n",
        "\n",
        "\n",
        "IMP NOTE: You will notice that the number of filters of these two summands are not the same. For this, you will need to use a convolution layer on the residual component, which changes the number of filters while keeping the rest of the dimensions the same. This can be achieved with a careful selection of the input_channels, output_channels, kernel_size and padding parameters. "
      ]
    },
    {
      "cell_type": "code",
      "metadata": {
        "id": "rzxWZNrmUzFT"
      },
      "source": [
        "class ResidualConvnet(nn.Module):\n",
        "    def __init__(self, input_channels, num_classes):\n",
        "        super(ResidualConvnet, self).__init__()\n",
        "        \n",
        "        # TODO\n",
        "    \n",
        "    def forward(self, x):\n",
        "        \n",
        "        # TODO \n",
        "        return output\n",
        "        "
      ],
      "execution_count": 19,
      "outputs": []
    },
    {
      "cell_type": "code",
      "metadata": {
        "id": "Wn9OWZiceenh"
      },
      "source": [
        "# TODO : Initialize the model and cast to correct device\n",
        "\n",
        "# TODO : Initialize the criterion \n",
        "\n",
        "# TODO : Initialize the optimizer \n",
        "\n",
        "# TODO : Run the training loop using this model"
      ],
      "execution_count": 20,
      "outputs": []
    },
    {
      "cell_type": "markdown",
      "metadata": {
        "id": "NRrWJ63c4C0f"
      },
      "source": [
        "### Q 2.8 Plot the training curves with and without the residual connection. Comment on the difference. "
      ]
    },
    {
      "cell_type": "markdown",
      "metadata": {
        "id": "1QXPnxcrx-VU"
      },
      "source": [
        "### Q2.9 Reducing overfiting \n",
        "\n"
      ]
    },
    {
      "cell_type": "markdown",
      "metadata": {
        "id": "HISbvoBh8JTJ"
      },
      "source": [
        "In the previous questions, you might have observed that there is a large difference between the training and validation losses. This is a sign that the model is overfitting. One way to combat this is by adding random transformations to the input data to make your model more robust and prevent it from memorizing the input data. \n",
        "\n",
        "Torchvision provides several transforms that you can readily apply to your data. Experiment with adding a few transforms and report your results in terms of learning curves to see if the gap between the training and validation loss reduces and try to achieve better perfomance on the validation set. "
      ]
    },
    {
      "cell_type": "code",
      "metadata": {
        "id": "0cZRQd-VK7ev"
      },
      "source": [
        "test_transform = transforms.Compose([\n",
        "                                     transforms.ToTensor(),\n",
        "                                     transforms.Normalize(\n",
        "                                         [0.4373, 0.4434, 0.4725],\n",
        "                                         [0.1201, 0.1231, 0.1052])\n",
        "                                     ])\n",
        "\n",
        "train_transform = transforms.Compose([\n",
        "                                      # TODO: Add more transforms here \n",
        "                                      transforms.ToTensor(),\n",
        "                                      transforms.Normalize(\n",
        "                                          [0.4373, 0.4434, 0.4725],\n",
        "                                          [0.1201, 0.1231, 0.1052])\n",
        "                                      ])\n"
      ],
      "execution_count": 21,
      "outputs": []
    },
    {
      "cell_type": "code",
      "metadata": {
        "id": "brZrUl7mK7ez"
      },
      "source": [
        "train_dataset_w_transform  = MapDataset(train_dataset, train_transform)\n",
        "val_dataset_w_transform = MapDataset(val_dataset, test_transform)\n",
        "test_dataset_w_transform = MapDataset(test_dataset, test_transform)"
      ],
      "execution_count": 22,
      "outputs": []
    },
    {
      "cell_type": "code",
      "metadata": {
        "id": "kZp6DqwfK7e1"
      },
      "source": [
        "bs = 128\n",
        "train_loader = DataLoader(train_dataset_w_transform, batch_size=bs, shuffle=True, drop_last=False)\n",
        "val_loader = DataLoader(val_dataset_w_transform, batch_size=bs, shuffle=False, drop_last=False)\n",
        "test_loader = DataLoader(test_dataset, batch_size=bs, shuffle=False, drop_last=False)"
      ],
      "execution_count": 23,
      "outputs": []
    },
    {
      "cell_type": "markdown",
      "metadata": {
        "id": "xR_9tihT5Vmu"
      },
      "source": [
        "#### Use the residual network that you built above and use data augmentation to reduce the overfitting "
      ]
    },
    {
      "cell_type": "code",
      "metadata": {
        "id": "WxMLVdrUwh--"
      },
      "source": [
        "# TODO : Initialize the model and cast to correct device\n",
        "\n",
        "# TODO : Initialize the criterion \n",
        "\n",
        "# TODO : Initialize the optimizer \n",
        "\n",
        "# TODO : Run the training loop using this model"
      ],
      "execution_count": 24,
      "outputs": []
    },
    {
      "cell_type": "markdown",
      "metadata": {
        "id": "O2rhPXb4nRFA"
      },
      "source": [
        "### Q 2.10  Effect of learning rate decay "
      ]
    },
    {
      "cell_type": "markdown",
      "metadata": {
        "id": "VDqvgBeptLpD"
      },
      "source": [
        "#### Here you need to change the training loop to have one additional operation - add the scheduler step at the end of each epoch. Experiment with different learning rate schedulers provided by pytorch. Report results using atleast StepLR. "
      ]
    },
    {
      "cell_type": "code",
      "metadata": {
        "id": "DoDm84bvtbYK"
      },
      "source": [
        "from torch.optim.lr_scheduler import StepLR"
      ],
      "execution_count": 25,
      "outputs": []
    },
    {
      "cell_type": "code",
      "metadata": {
        "id": "nbGSCk4N57qX",
        "outputId": "097b3c4c-7bc7-4254-d317-e3f4cf02935c",
        "colab": {
          "base_uri": "https://localhost:8080/",
          "height": 130
        }
      },
      "source": [
        "def train_loop2(model, criterion, optimizer, scheduler,  train_loader, val_loader):\n",
        "    \"\"\"\n",
        "    Generic training loop\n",
        "\n",
        "    Parameters\n",
        "    ----------\n",
        "    model : Object instance of your model class \n",
        "    criterion : Loss function \n",
        "    optimizer : Instance of optimizer class of your choice \n",
        "    scheduler : Instance of scheduler class of your choice \n",
        "    train_loader : Training data loader \n",
        "    val_loader : Validation data loader\n",
        "\n",
        "    Returns\n",
        "    -------\n",
        "    train_losses : List with train loss on dataset per epoch\n",
        "    train_accuracies : List with train accuracy on dataset per epoch\n",
        "    val_losses : List with validation loss on dataset per epoch\n",
        "    val_accuracies : List with validation accuracy on dataset per epoch\n",
        "\n",
        "    \"\"\"\n",
        "    best_val = 0.0\n",
        "    train_losses = []\n",
        "    val_losses = []\n",
        "    train_accuracies = []\n",
        "    val_accuracies = []\n",
        "    max_patience = 5\n",
        "    patience_counter = 0\n",
        "\n",
        "    # Training\n",
        "    for t in tqdm(range(50)):\n",
        "\n",
        "        # TODO : Set the model to train mode        \n",
        "\n",
        "        # TODO: Loop over the training set \n",
        "\n",
        "            # TODO: Put the inputs and targets on the write device\n",
        "            \n",
        "            # TODO: Feed forward to get the logits\n",
        "\n",
        "            # TODO: Compute the loss and accuracy\n",
        "\n",
        "            # TODO: zero the gradients before running\n",
        "            # the backward pass.\n",
        "\n",
        "            # TODO: Backward pass to compute the gradient\n",
        "            # of loss w.r.t our learnable params. \n",
        "\n",
        "            # TODO: Update params\n",
        "            \n",
        "            # TODO: Keep track of accuracy and loss\n",
        "\n",
        "        \n",
        "        # Switch the model to eval mode\n",
        "        # TODO\n",
        "\n",
        "\n",
        "        with torch.no_grad():\n",
        "            # TODO: Loop over the validation set \n",
        "            \n",
        "                # TODO: Put the inputs and targets on the write device\n",
        "            \n",
        "                # TODO: Feed forward to get the logits\n",
        "\n",
        "                # TODO: Compute the loss and accuracy\n",
        "\n",
        "                # TODO: Keep track of accuracy and loss\n",
        "\n",
        "        if val_accuracies[-1] > best_val:\n",
        "          best_val = val_accuracies[-1]\n",
        "          patience_counter = 0\n",
        "\n",
        "          # TODO: Save best model, optimizer, epoch_number\n",
        "          \n",
        "        else:\n",
        "          patience_counter += 1    \n",
        "          \n",
        "          if patience_counter > max_patience: \n",
        "            break\n",
        "\n",
        "        print(\"[EPOCH]: %i, [TRAIN LOSS]: %.6f, [TRAIN ACCURACY]: %.3f\" % (t, train_losses[-1], train_accuracies[-1]))\n",
        "        print(\"[EPOCH]: %i, [VAL LOSS]: %.6f, [VAL ACCURACY]: %.3f \\n\" % (t, val_losses[-1] ,val_accuracies[-1]))\n",
        "\n",
        "        # TODO : scheduler step\n",
        "\n",
        "    return train_losses, train_accuracies, val_losses, val_accuracies"
      ],
      "execution_count": 26,
      "outputs": [
        {
          "output_type": "error",
          "ename": "IndentationError",
          "evalue": "ignored",
          "traceback": [
            "\u001b[0;36m  File \u001b[0;32m\"<ipython-input-26-d9093586fae0>\"\u001b[0;36m, line \u001b[0;32m69\u001b[0m\n\u001b[0;31m    if val_accuracies[-1] > best_val:\u001b[0m\n\u001b[0m     ^\u001b[0m\n\u001b[0;31mIndentationError\u001b[0m\u001b[0;31m:\u001b[0m expected an indented block\n"
          ]
        }
      ]
    },
    {
      "cell_type": "code",
      "metadata": {
        "id": "bK1P1aU0sbJn"
      },
      "source": [
        "# TODO : Initialize the model and cast to correct device\n",
        "\n",
        "# TODO : Initialize the criterion \n",
        "\n",
        "# TODO : Initialize the optimizer \n",
        "\n",
        "# TODO : Initialize the \n",
        "\n",
        "# TODO : Run the training loop using this model"
      ],
      "execution_count": null,
      "outputs": []
    },
    {
      "cell_type": "markdown",
      "metadata": {
        "id": "cG8bhd5V97iJ"
      },
      "source": [
        "### Q2.11 Hyper parameter tuning \n"
      ]
    },
    {
      "cell_type": "markdown",
      "metadata": {
        "id": "G05PHYHJ-DF2"
      },
      "source": [
        "#### Experiment with a range of learning rates and optimizers, as well as the parameter in the learning rate scheduler for StepLR. Report the following plots: \n",
        "\n",
        "1. Learning curves (training and validation loss for 5 different learning rate with SGD optimizer)\n",
        "2. Learning curves (training and validation loss for 5 different learning rate with Adam optimizer)\n",
        "3. Learning curves (training and validation loss for 5 different gamma parameter for the StepLR)\n",
        "\n",
        "\n",
        "\n"
      ]
    },
    {
      "cell_type": "markdown",
      "metadata": {
        "id": "JiLexWP36qp6"
      },
      "source": [
        "### Q2.12 Load the model that gave you best validation accuracy and report results on the test set. "
      ]
    },
    {
      "cell_type": "code",
      "metadata": {
        "id": "Hz-m4xZU_nV8"
      },
      "source": [
        ""
      ],
      "execution_count": null,
      "outputs": []
    }
  ]
}