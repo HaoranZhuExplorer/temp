{
 "cells": [
  {
   "cell_type": "code",
   "execution_count": 1,
   "metadata": {},
   "outputs": [
    {
     "name": "stdout",
     "output_type": "stream",
     "text": [
      "[]\n"
     ]
    }
   ],
   "source": [
    "# some pre-requirements to do slight change into my modules\n",
    "import sys\n",
    "for i in range(len(sys.path)):\n",
    "    sys.path.remove(sys.path[0])\n",
    "print(sys.path)"
   ]
  },
  {
   "cell_type": "code",
   "execution_count": 2,
   "metadata": {},
   "outputs": [
    {
     "name": "stdout",
     "output_type": "stream",
     "text": [
      "['', '/scratch/hz1922/myjupyter/.env/lib/python36.zip', '/scratch/hz1922/myjupyter/.env/lib/python3.6', '/scratch/hz1922/myjupyter/.env/lib/python3.6/lib-dynload', '/share/apps/python3/3.6.3/intel/lib/python3.6', '/scratch/hz1922/myjupyter/.env/lib/python3.6/site-packages', '/scratch/hz1922/myjupyter/.env/lib/python3.6/site-packages/IPython/extensions']\n"
     ]
    }
   ],
   "source": [
    "path_list = ['', '/scratch/hz1922/myjupyter/.env/lib/python36.zip', '/scratch/hz1922/myjupyter/.env/lib/python3.6', '/scratch/hz1922/myjupyter/.env/lib/python3.6/lib-dynload', '/share/apps/python3/3.6.3/intel/lib/python3.6', '/scratch/hz1922/myjupyter/.env/lib/python3.6/site-packages', '/scratch/hz1922/myjupyter/.env/lib/python3.6/site-packages/IPython/extensions']\n",
    "for i in range(len(path_list)):\n",
    "    sys.path.append(path_list[i])\n",
    "print(sys.path)"
   ]
  },
  {
   "cell_type": "code",
   "execution_count": 3,
   "metadata": {},
   "outputs": [
    {
     "name": "stdout",
     "output_type": "stream",
     "text": [
      "['', '/scratch/hz1922/myjupyter/.env/lib/python36.zip', '/scratch/hz1922/myjupyter/.env/lib/python3.6', '/scratch/hz1922/myjupyter/.env/lib/python3.6/lib-dynload', '/share/apps/python3/3.6.3/intel/lib/python3.6', '/scratch/hz1922/myjupyter/.env/lib/python3.6/site-packages', '/scratch/hz1922/myjupyter/.env/lib/python3.6/site-packages/IPython/extensions']\n"
     ]
    }
   ],
   "source": [
    "print(sys.path)"
   ]
  },
  {
   "cell_type": "code",
   "execution_count": null,
   "metadata": {},
   "outputs": [],
   "source": []
  },
  {
   "cell_type": "markdown",
   "metadata": {
    "id": "JOWcdbRfqf0d"
   },
   "source": [
    "## Convolutional & Conditional VAEs\n",
    "\n",
    "In this problem you will implement: \n",
    "1. a **convolutional** variational autoencoder\n",
    "2. a (convolutional) **conditional** variational autoencoder,\n",
    "\n",
    "trained on the MNIST dataset. \n",
    "The convolutional parameterization will help you achieve better marginal log likelihood. Using the conditional VAE, you'll be able to generate novel images of a specified class.\n"
   ]
  },
  {
   "cell_type": "code",
   "execution_count": 4,
   "metadata": {
    "colab": {
     "base_uri": "https://localhost:8080/"
    },
    "id": "L8BdiMaorQR3",
    "outputId": "213dfd03-cc4f-4676-d8b7-d8b061fd2f52"
   },
   "outputs": [
    {
     "name": "stdout",
     "output_type": "stream",
     "text": [
      "Populating the interactive namespace from numpy and matplotlib\n"
     ]
    }
   ],
   "source": [
    "%pylab inline\n",
    "import torch\n",
    "import torchvision\n",
    "from torch import nn\n",
    "from torch.utils.data import DataLoader\n",
    "from torchvision import transforms\n",
    "from torchvision.datasets import MNIST\n",
    "from torch.distributions import MultivariateNormal\n",
    "from tqdm import tqdm"
   ]
  },
  {
   "cell_type": "code",
   "execution_count": 5,
   "metadata": {
    "id": "xMJ-Iq6E9AnW"
   },
   "outputs": [],
   "source": [
    "batch_size = 256\n",
    "\n",
    "train_loader = torch.utils.data.DataLoader(\n",
    "    MNIST('./data', train=True, download=True, \n",
    "          transform=transforms.ToTensor()),\n",
    "    batch_size=batch_size, shuffle=True\n",
    ")\n",
    "test_loader = torch.utils.data.DataLoader(\n",
    "    MNIST('./data', train=False, transform=transforms.ToTensor()),\n",
    "    batch_size=batch_size, shuffle=True\n",
    ")\n"
   ]
  },
  {
   "cell_type": "markdown",
   "metadata": {
    "id": "89M0te_0aevX"
   },
   "source": [
    "\n",
    "\n",
    "---\n",
    "# 1. Convolutional variational autoencoder (20 points)\n"
   ]
  },
  {
   "cell_type": "markdown",
   "metadata": {
    "id": "rZ8nom_Ddjdq"
   },
   "source": [
    "Your task is to implement a VAE for MNIST, using a **convolutional network** in the encoder, and a **convolutional network** in the decoder.\n",
    "\n",
    "- **Overall Goal:** achieve better estimated marginal likelihood than in the lab\n",
    "  - Keep `z=20` as in the lab "
   ]
  },
  {
   "cell_type": "markdown",
   "metadata": {
    "id": "SozXL2jAfxii"
   },
   "source": [
    "\n",
    "**Encoder**: you are free to design the convolutional network how you want. \n",
    "  - We used three `Conv2d + ReLU` layers, with an output size of `B x 64 x 7 x 7`.\n",
    "  - Hint: Flatten the output of your convolutional network before mapping it to the encoder outputs, e.g. $\\mu = \\texttt{linear(flatten(conv(x)))}$\n",
    "\n",
    "\n",
    "**Decoder**: you are free to design the convolutional network how you want. \n",
    "  - We used three `ConvTranspose2d + ReLU` layers, with an input size of `B x 64 x 7 x 7`.\n",
    "  - Hint: Map the $\\mathbf{z}$ input to the convolutional input size.\n",
    "    - $\\hat{x}=\\texttt{deconv(reshape(linear(z)))}$"
   ]
  },
  {
   "cell_type": "code",
   "execution_count": 232,
   "metadata": {
    "id": "5auo0iYMae9b"
   },
   "outputs": [],
   "source": [
    "class Encoder(nn.Module):\n",
    "    def __init__(self, zdim):\n",
    "        super().__init__()\n",
    "        # TODO\n",
    "        nf = 16\n",
    "        # convolution\n",
    "        self.conv1 = nn.Sequential(\n",
    "                        nn.Conv2d(1, nf, 3, 2, 1),\n",
    "                        nn.BatchNorm2d(nf),\n",
    "                        nn.ReLU(True)\n",
    "        )\n",
    "        self.conv2 = nn.Sequential(\n",
    "                        nn.Conv2d(nf, nf*2, 3, 2, 1),\n",
    "                        nn.BatchNorm2d(nf*2),\n",
    "                        nn.ReLU(True)\n",
    "        )\n",
    "        self.conv3 = nn.Sequential(\n",
    "                        nn.Conv2d(nf*2, nf*4, 3, 1, 1),\n",
    "                        nn.BatchNorm2d(nf*4),\n",
    "                        nn.ReLU(True)\n",
    "        )\n",
    "\n",
    "        \n",
    "        self.mu = nn.Linear(3136, zdim)\n",
    "        self.logvar = nn.Linear(3136, zdim)\n",
    "        self.zdim = zdim\n",
    "\n",
    "    def forward(self, x):\n",
    "        # TODO\n",
    "        x1 = self.conv1(x)\n",
    "        x2 = self.conv2(x1)\n",
    "        x3 = self.conv3(x2)\n",
    "        x3 = torch.flatten(x3, 1)\n",
    "        mu = self.mu(x3) \n",
    "        logvar = self.logvar(x3)\n",
    "        return mu, logvar\n",
    "\n",
    "\n",
    "class Decoder(nn.Module):\n",
    "    def __init__(self, zdim):\n",
    "        super().__init__()\n",
    "        nf = 16\n",
    "\n",
    "        self.deconv = nn.Linear(zdim, nf*4*49)\n",
    "        \n",
    "        self.trans_conv1 = nn.Sequential(\n",
    "                            nn.ConvTranspose2d(nf*4, nf*2, 3, 1, 1),\n",
    "                            nn.BatchNorm2d(nf*2),\n",
    "                            nn.ReLU(True)\n",
    "        )\n",
    "\n",
    "        self.trans_conv2 = nn.Sequential(\n",
    "                            nn.ConvTranspose2d(nf*2, nf*1, 4, 2, 1),\n",
    "                            nn.BatchNorm2d(nf*1),\n",
    "                            nn.ReLU(True)\n",
    "        )\n",
    "        self.trans_conv3 = nn.Sequential(\n",
    "                            nn.ConvTranspose2d(nf, 1, 4, 2, 1),\n",
    "                            nn.Sigmoid()\n",
    "        )\n",
    "    \n",
    "\n",
    "    def forward(self, x):\n",
    "        x = self.deconv(x)\n",
    "        x = x.view(x.shape[0], 64, 7, 7)\n",
    "        x1 = self.trans_conv1(x)\n",
    "        x2 = self.trans_conv2(x1)\n",
    "        x3 = self.trans_conv3(x2)\n",
    "        out = x3\n",
    "        return out\n",
    "\n",
    "\n",
    "class VAE(nn.Module):\n",
    "    def __init__(self, zdim):\n",
    "        super().__init__()\n",
    "        self.encoder = Encoder(zdim)\n",
    "        self.decoder = Decoder(zdim)\n",
    "\n",
    "    def reparameterize(self, mu, logvar):\n",
    "        if self.training:\n",
    "            std = torch.exp(0.5*logvar)\n",
    "            eps = torch.randn_like(std)\n",
    "            z = mu + std*eps\n",
    "        else:\n",
    "            z = mu\n",
    "        return z\n",
    "\n",
    "    def forward(self, x):\n",
    "        mu, logvar = self.encoder(x)\n",
    "        z = self.reparameterize(mu, logvar)\n",
    "        xhat = self.decoder(z)\n",
    "        return xhat, mu, logvar"
   ]
  },
  {
   "cell_type": "markdown",
   "metadata": {
    "id": "fM6hwkY9hSku"
   },
   "source": [
    "**Loss**: does anything change from the lab?"
   ]
  },
  {
   "cell_type": "code",
   "execution_count": 233,
   "metadata": {
    "id": "RIwIRzR-hetY"
   },
   "outputs": [],
   "source": [
    "# hint: see lab\n",
    "def loss_function(xhat, x, mu, logvar, kl_weight=1.0):\n",
    "    BCE = nn.functional.binary_cross_entropy(\n",
    "      xhat.view(xhat.size(0),-1), x.view(x.size(0), -1), reduction='none').sum(1).mean()\n",
    "    KLD = -0.5 * torch.sum(1 + logvar - mu.pow(2) - logvar.exp(), 1).mean()\n",
    "    loss = BCE + kl_weight*KLD\n",
    "    return loss, BCE.item(), KLD.item()"
   ]
  },
  {
   "cell_type": "markdown",
   "metadata": {
    "id": "thEfVOBlhOgu"
   },
   "source": [
    "**Train on MNIST**: does anything change from the lab?\n",
    "\n",
    "**Your task:** Implement training logic, and *produce a plot of training loss and a plot of validation loss* (x-axis: epoch, y-axis: loss). Each plot should contain three lines: total loss, BCE, and KL-divergence."
   ]
  },
  {
   "cell_type": "code",
   "execution_count": 275,
   "metadata": {
    "id": "rmGIGgT3ho2Q"
   },
   "outputs": [],
   "source": [
    "device = torch.device(\"cuda:0\")\n",
    "zdim = 20        # use this\n",
    "kl_weight = 1.0  # use this\n",
    "\n",
    "model = VAE(zdim=20).to(device)\n",
    "\n",
    "optimizer = torch.optim.Adam(\n",
    "    model.parameters(),\n",
    "    lr=1e-3,\n",
    ")"
   ]
  },
  {
   "cell_type": "code",
   "execution_count": null,
   "metadata": {
    "id": "HFDMxWtMhpDh"
   },
   "outputs": [],
   "source": [
    "def train(epoch):\n",
    "    model.train()\n",
    "    train_loss, bce, kld = 0, 0, 0\n",
    "    for batch_idx, (x, _) in tqdm(enumerate(train_loader), total=len(train_loader)):\n",
    "        x = x.to(device)\n",
    "\n",
    "        optimizer.zero_grad()\n",
    "        xhat, mu, logvar = model(x)\n",
    "        loss, bce_, kld_ = loss_function(xhat, x, mu, logvar, kl_weight)\n",
    "        loss.backward()\n",
    "        optimizer.step()\n",
    "\n",
    "        train_loss += loss.item()\n",
    "        bce += bce_\n",
    "        kld += kld_\n",
    "\n",
    "    bce /= len(train_loader.dataset)\n",
    "    kld /= len(train_loader.dataset)\n",
    "    train_loss /= len(train_loader.dataset)\n",
    "    print('====> Epoch: {} Average loss: {:.4f} (bce {:.4f}, kld {:.4f})'.format(\n",
    "        epoch, \n",
    "        train_loss, \n",
    "        bce,\n",
    "        kld\n",
    "    ))\n",
    "    return train_loss, bce, kld\n",
    "\n",
    "\n",
    "def validate(epoch):\n",
    "    cache = dict(mus=[], logvars=[], ys=[])\n",
    "    mus, logvars, ys = [], [], []\n",
    "    model.eval()\n",
    "    test_loss, bce, kld = 0, 0, 0\n",
    "    with torch.no_grad():\n",
    "        for i, (x, y) in enumerate(test_loader):\n",
    "            \n",
    "            x = x.to(device)\n",
    "            xhat, mu, logvar = model(x)\n",
    "            loss, bce_, kld_ = loss_function(xhat, x, mu, logvar, kl_weight)\n",
    "\n",
    "            test_loss += loss.item()\n",
    "            bce += bce_\n",
    "            kld += kld_\n",
    "            cache['mus'].append(mu.detach())\n",
    "            cache['logvars'].append(logvar.detach())\n",
    "            cache['ys'].append(y.detach())\n",
    "\n",
    "    test_loss /= len(test_loader.dataset)\n",
    "    bce /= len(test_loader.dataset)\n",
    "    kld /= len(test_loader.dataset)\n",
    "    print('====> Valid set loss: {:.4f} (bce {:.4f}, kld {:.4f})'.format(\n",
    "        test_loss,\n",
    "        bce,\n",
    "        kld\n",
    "    ))\n",
    "    return cache, test_loss, bce, kld\n",
    "\n",
    "# train, validate ..\n",
    "best_loss = 1e5\n",
    "cache = dict(mus=[], logvars=[], ys=[], valid_loss=[], valid_bce=[], valid_kld=[], train_loss=[], train_bce=[], train_kld=[])\n",
    "wait = 10\n",
    "cnt = 0\n",
    "for epoch in range(1,300):\n",
    "    cache_, valid_loss, valid_bce, valid_kld = validate(epoch)  \n",
    "    train_loss, train_bce, train_kld = train(epoch)\n",
    "\n",
    "\n",
    "    cache['valid_loss'].append(valid_loss)\n",
    "    cache['valid_bce'].append(valid_bce)\n",
    "    cache['valid_kld'].append(valid_kld)\n",
    "    cache['train_loss'].append(train_loss)\n",
    "    cache['train_bce'].append(train_bce)\n",
    "    cache['train_kld'].append(train_kld)\n",
    "    \n",
    "    if cnt>wait:\n",
    "        break\n",
    "\n",
    "    if valid_loss < best_loss:\n",
    "        cnt = 0\n",
    "        torch.save({\n",
    "            'state_dict': model.state_dict(),\n",
    "            'valid_loss': cache['valid_loss'],\n",
    "            'validbcse': cache['valid_bce'],\n",
    "            'valid_kld': cache['valid_kld'],\n",
    "            'train_loss': cache['train_loss'],\n",
    "            'train_bce': cache['train_bce'],\n",
    "            'train_kld': cache['train_kld'],\n",
    "        }, open('model.pt', 'wb'))\n",
    "        best_loss = valid_loss\n",
    "    else:\n",
    "        cnt+=1\n",
    "        print(\"waiting time: \",cnt)"
   ]
  },
  {
   "cell_type": "markdown",
   "metadata": {
    "id": "YXm0O51ci7WE"
   },
   "source": [
    "### Evaluation\n",
    "- **We provide the code below for sampling, interpolation, and marginal likelihood estimation**\n",
    "- Sampling and interpolation: achieve similar to the lab (this is subjective, so the purpose is to check if something is *way off*)\n",
    "- Marginal likelihood: achieve better than the lab\n",
    "\n",
    "\n",
    "\n",
    "*Please ensure that `model` contains the model state that you will use for evaluation before running these.*"
   ]
  },
  {
   "cell_type": "markdown",
   "metadata": {
    "id": "svvD7KO3kQ9b"
   },
   "source": [
    "#### Sampling\n",
    "\n",
    "*no code modification needed*"
   ]
  },
  {
   "cell_type": "code",
   "execution_count": 282,
   "metadata": {
    "colab": {
     "base_uri": "https://localhost:8080/",
     "height": 269
    },
    "id": "YIaLVRwrhpKE",
    "outputId": "484b7843-0af5-40dd-ee86-8b7ee820a70e"
   },
   "outputs": [
    {
     "data": {
      "image/png": "[encoded data removed]",
      "text/plain": [
       "<Figure size 432x288 with 1 Axes>"
      ]
     },
     "metadata": {
      "needs_background": "light"
     },
     "output_type": "display_data"
    }
   ],
   "source": [
    "from torchvision.utils import make_grid\n",
    "\n",
    "N = 64\n",
    "model.eval()\n",
    "\n",
    "# Sample z~p(z)\n",
    "z = torch.randn((N, model.encoder.zdim)).to(device)\n",
    "\n",
    "# Decode\n",
    "sample = model.decoder(z)\n",
    "\n",
    "# Visualize\n",
    "def show(img):\n",
    "    npimg = img.numpy()\n",
    "    plt.imshow(np.transpose(npimg, (1,2,0)), interpolation='nearest')\n",
    "\n",
    "imgs = sample\n",
    "grid = make_grid(imgs).detach().cpu()\n",
    "show(grid)"
   ]
  },
  {
   "cell_type": "markdown",
   "metadata": {
    "id": "fi-yLTtTkT96"
   },
   "source": [
    "#### Interpolation\n",
    "\n",
    "*no code modification needed*"
   ]
  },
  {
   "cell_type": "code",
   "execution_count": 280,
   "metadata": {
    "colab": {
     "base_uri": "https://localhost:8080/",
     "height": 269
    },
    "id": "7xHOvI0jhpNe",
    "outputId": "72cfa2b1-5534-4760-a678-83d9b3940017"
   },
   "outputs": [
    {
     "data": {
      "image/png": "[encoded data removed]",
      "text/plain": [
       "<Figure size 432x288 with 1 Axes>"
      ]
     },
     "metadata": {
      "needs_background": "light"
     },
     "output_type": "display_data"
    }
   ],
   "source": [
    "# Visualize\n",
    "from torchvision.utils import make_grid\n",
    "\n",
    "model.eval()\n",
    "\n",
    "x, y = next(train_loader.__iter__())\n",
    "xhat, mu, logvar = model(x.cuda())\n",
    "si, ei = np.random.choice(batch_size, size=2, replace=False)\n",
    "start = mu[si]\n",
    "end = mu[ei]\n",
    "\n",
    "N = 64\n",
    "\n",
    "zs = torch.zeros(N, model.encoder.zdim).to(device)\n",
    "for i in range(N):\n",
    "    zs[i] = i / (N) * start.data + (1 - i / (N) ) * end.data\n",
    "xhat = model.decoder(zs)\n",
    "\n",
    "imgs = xhat.unsqueeze(0).unsqueeze(0).view(N, 1, 28, 28)\n",
    "grid = make_grid(imgs).detach().cpu()\n",
    "show(grid)"
   ]
  },
  {
   "cell_type": "markdown",
   "metadata": {
    "id": "sCjZgN7TkwjC"
   },
   "source": [
    "#### Marginal likelihood\n",
    "\n",
    "*no code modification needed*"
   ]
  },
  {
   "cell_type": "code",
   "execution_count": 242,
   "metadata": {
    "id": "9rJOuPCOkddO"
   },
   "outputs": [
    {
     "name": "stderr",
     "output_type": "stream",
     "text": [
      "100%|██████████| 10000/10000 [10:22<00:00, 16.06it/s]"
     ]
    },
    {
     "name": "stdout",
     "output_type": "stream",
     "text": [
      "-92.84845636405944\n"
     ]
    },
    {
     "name": "stderr",
     "output_type": "stream",
     "text": [
      "\n"
     ]
    }
   ],
   "source": [
    "torch.manual_seed(42)\n",
    "torch.cuda.manual_seed_all(42)\n",
    "\n",
    "eval_loader = torch.utils.data.DataLoader(\n",
    "    MNIST('./data', train=False, transform=transforms.ToTensor()),\n",
    "    batch_size=1, shuffle=True)\n",
    "\n",
    "N_samples = 128\n",
    "\n",
    "model.eval()\n",
    "results = []\n",
    "with torch.no_grad():\n",
    "    for i, (x, y) in tqdm(enumerate(eval_loader), total=len(eval_loader)):\n",
    "        x, y = next(eval_loader.__iter__())\n",
    "        x = x.to(device).expand(N_samples, 1, 28, 28)\n",
    "        # Obtain mu, logvar and sample z\n",
    "        _, mu, logvar = model(x)\n",
    "        z = mu + logvar.mul(0.5).exp()*torch.randn_like(mu)\n",
    "\n",
    "        # Obtain xhat given the sampled z\n",
    "        xhat = model.decoder(z)\n",
    "\n",
    "        # Make a standard normal for p(z) and a normal for q(z|x)\n",
    "        norm = MultivariateNormal(\n",
    "            torch.zeros_like(mu[0]), \n",
    "            covariance_matrix=torch.diag(torch.ones_like(logvar[0]))\n",
    "        )\n",
    "        mvn = MultivariateNormal(\n",
    "            mu[0], \n",
    "            covariance_matrix=torch.diag(logvar.exp()[0])\n",
    "        )\n",
    "\n",
    "        # Measure the (log) probabilities needed for the formula above\n",
    "        log_pz = norm.log_prob(z)\n",
    "        log_qzx = mvn.log_prob(z)\n",
    "        x = x.view(xhat.size())\n",
    "        log_pxz = -nn.functional.binary_cross_entropy(\n",
    "            xhat, x, reduction='none'\n",
    "        ).view(N_samples, -1).sum(1)\n",
    "\n",
    "        # Compute the lowerbound (in log space)\n",
    "        argsum = log_pxz + log_pz - log_qzx\n",
    "        logpx = -np.log(N_samples) + torch.logsumexp(argsum, 0)\n",
    "        results.append(logpx.item())\n",
    "\n",
    "print(np.mean(results))"
   ]
  },
  {
   "cell_type": "markdown",
   "metadata": {},
   "source": [
    "Since the log probability is larger than the one showed in the lab, we gain better marginal likelihood."
   ]
  },
  {
   "cell_type": "code",
   "execution_count": 281,
   "metadata": {},
   "outputs": [
    {
     "data": {
      "text/plain": [
       "<matplotlib.legend.Legend at 0x2aed3f590400>"
      ]
     },
     "execution_count": 281,
     "metadata": {},
     "output_type": "execute_result"
    },
    {
     "data": {
      "image/png": "[encoded data removed]",
      "text/plain": [
       "<Figure size 432x288 with 1 Axes>"
      ]
     },
     "metadata": {
      "needs_background": "light"
     },
     "output_type": "display_data"
    },
    {
     "data": {
      "image/png": "[encoded data removed]",
      "text/plain": [
       "<Figure size 432x288 with 1 Axes>"
      ]
     },
     "metadata": {
      "needs_background": "light"
     },
     "output_type": "display_data"
    }
   ],
   "source": [
    "import matplotlib.pyplot as plt\n",
    "import numpy as np\n",
    "\n",
    "checkpoint = torch.load('model.pt')\n",
    "valid_loss = checkpoint['valid_loss']\n",
    "valid_bce = checkpoint['validbcse']\n",
    "valid_kld = checkpoint['valid_kld']\n",
    "train_loss = checkpoint['train_loss']\n",
    "train_bce = checkpoint['train_bce']\n",
    "train_kld = checkpoint['train_kld']\n",
    "\n",
    "x = np.arange(0,len(train_loss))\n",
    "\n",
    "plt.figure()\n",
    "plt.plot(x,train_loss,label='train loss')\n",
    "plt.plot(x,train_bce,label='train bce')\n",
    "plt.plot(x,train_kld,label='train kld')\n",
    "plt.legend()\n",
    "\n",
    "plt.figure()\n",
    "x_valid = np.arange(0,len(valid_loss))\n",
    "plt.plot(x,train_loss,label='validation loss')\n",
    "plt.plot(x,train_bce,label='validation bce')\n",
    "plt.plot(x,train_kld,label='validation kld')\n",
    "plt.legend()"
   ]
  },
  {
   "cell_type": "markdown",
   "metadata": {
    "id": "9fQ1F2z1aQYw"
   },
   "source": [
    "\n",
    "\n",
    "---\n",
    "\n",
    "# 2. Conditional variational autoencoder (20 points)"
   ]
  },
  {
   "cell_type": "markdown",
   "metadata": {
    "id": "KbyWObEQrT0G"
   },
   "source": [
    "### A. Model\n",
    "\n",
    "The conditional VAE involves:\n",
    "- $q_{\\phi}(\\mathbf{z}|\\mathbf{x},c)$: \"encoder\"\n",
    "- $p_{\\theta}(\\mathbf{x}|\\mathbf{z},c)$: \"decoder\"\n",
    "- $p(\\mathbf{z})$: prior\n",
    "\n",
    "In our case, $c\\in \\{0,...,9\\}$ is a discrete variable (class label)."
   ]
  },
  {
   "cell_type": "markdown",
   "metadata": {
    "id": "rvEJQE61u8ps"
   },
   "source": [
    "**Your task:** Implement a `CVAE` that has an `encoder`, `decoder`, and `reparameterization`.\n",
    "\n",
    "*Hints*: \n",
    "  1. Represent $c$ using a `nn.Embedding` layer, and concatenate it to the representation of $\\mathbf{x}$.\n",
    "    - e.g. $\\mu = \\texttt{linear([conv(x); emb(c)])}$\n",
    "  2. Represent `decoder` inputs $\\mathbf{z},c$ similarly, as $[\\mathbf{z};\\text{emb}(c)]$.\n",
    "    - $\\hat{x}=\\texttt{deconv(linear([z; emb(c)]))}$\n",
    "\n",
    "Otherwise, everything else is the same as VAE (plus passing $c$ as an argument in the right places). You can use the same convolutional layers as above."
   ]
  },
  {
   "cell_type": "code",
   "execution_count": 146,
   "metadata": {
    "id": "E9RzPiOsua2E"
   },
   "outputs": [],
   "source": [
    "def idx2onehot(idx, n):\n",
    "\n",
    "    assert torch.max(idx).item() < n\n",
    "\n",
    "    if idx.dim() == 1:\n",
    "        idx = idx.unsqueeze(1)\n",
    "    onehot = torch.zeros(idx.size(0), n).to(idx.device)\n",
    "    onehot.scatter_(1, idx, 1)\n",
    "    return onehot.cuda()\n",
    "\n",
    "\n",
    "class Encoder(nn.Module):\n",
    "    def __init__(self, zdim, nclasses):\n",
    "        # TODO\n",
    "        super().__init__()\n",
    "\n",
    "        self.embed_class = nn.Linear(nclasses, 28 * 28)\n",
    "        self.embed_data = nn.Conv2d(1, 1, kernel_size=1)\n",
    "        \n",
    "        nf = 16\n",
    "        # convolution\n",
    "        self.conv1 = nn.Sequential(\n",
    "                        nn.Conv2d(1, nf, 3, 2, 1),\n",
    "                        nn.BatchNorm2d(nf),\n",
    "                        nn.ReLU(True)\n",
    "        )\n",
    "        self.conv2 = nn.Sequential(\n",
    "                        nn.Conv2d(nf, nf*2, 3, 2, 1),\n",
    "                        nn.BatchNorm2d(nf*2),\n",
    "                        nn.ReLU(True)\n",
    "        )\n",
    "        self.conv3 = nn.Sequential(\n",
    "                        nn.Conv2d(nf*2, nf*4, 3, 1, 1),\n",
    "                        nn.BatchNorm2d(nf*4),\n",
    "                        nn.ReLU(True)\n",
    "        )\n",
    "\n",
    "        self.mu = nn.Linear(6272, zdim)\n",
    "        self.logvar = nn.Linear(6272, zdim)\n",
    "        self.zdim = zdim\n",
    "        self.nclasses = nclasses\n",
    "        \n",
    "        \n",
    "\n",
    "    def forward(self, x, c):\n",
    "        # TODO\n",
    "        \n",
    "        c = idx2onehot(c, n=self.nclasses)\n",
    "        c = self.embed_class(c)\n",
    "        c = c.view(-1, 28, 28).unsqueeze(1)\n",
    "        x = self.embed_data(x)\n",
    "        x = torch.cat((x, c), dim=-1)\n",
    "      \n",
    "        x1 = self.conv1(x)\n",
    "        x2 = self.conv2(x1)\n",
    "        x3 = self.conv3(x2)\n",
    "        x3 = torch.flatten(x3, 1)\n",
    "        mu = self.mu(x3) \n",
    "        logvar = self.logvar(x3)\n",
    "        return mu, logvar\n",
    "\n",
    "\n",
    "class Decoder(nn.Module):\n",
    "    def __init__(self, zdim, nclasses):\n",
    "        super().__init__()\n",
    "        # TODO\n",
    "        nf = 16\n",
    "        self.deconv = nn.Linear(zdim+nclasses, nf*4*49)\n",
    "        \n",
    "        self.trans_conv1 = nn.Sequential(\n",
    "                            nn.ConvTranspose2d(nf*4, nf*2, 3, 1, 1),\n",
    "                            nn.BatchNorm2d(nf*2),\n",
    "                            nn.ReLU(True)\n",
    "        )\n",
    "\n",
    "        self.trans_conv2 = nn.Sequential(\n",
    "                            nn.ConvTranspose2d(nf*2, nf*1, 4, 2, 1),\n",
    "                            nn.BatchNorm2d(nf*1),\n",
    "                            nn.ReLU(True)\n",
    "        )\n",
    "        self.trans_conv3 = nn.Sequential(\n",
    "                            nn.ConvTranspose2d(nf, 1, 4, 2, 1),\n",
    "                            nn.Sigmoid()\n",
    "        )\n",
    "        self.nclasses = nclasses\n",
    "\n",
    "    def forward(self, z, c):\n",
    "        # TODO\n",
    "        c = idx2onehot(c, n=self.nclasses)\n",
    "        z = torch.cat([z, c], dim = 1)\n",
    "        \n",
    "\n",
    "        \n",
    "        x = z\n",
    "        x = self.deconv(x)\n",
    "        x = x.view(x.shape[0], 64, 7, 7)\n",
    "        x1 = self.trans_conv1(x)\n",
    "        x2 = self.trans_conv2(x1)\n",
    "        x3 = self.trans_conv3(x2)\n",
    "        out = x3\n",
    "        return out\n",
    "\n",
    "\n",
    "class CVAE(nn.Module):\n",
    "    def __init__(self, zdim, nclasses):\n",
    "        super().__init__()\n",
    "        # TODO\n",
    "        self.zdim = zdim\n",
    "        self.nclasses = nclasses\n",
    "        \n",
    "        self.encoder = Encoder(zdim, nclasses)\n",
    "        self.decoder = Decoder(zdim, nclasses)\n",
    "\n",
    "        \n",
    "\n",
    "    def reparameterize(self, mu, logvar):\n",
    "        # TODO\n",
    "        if self.training:\n",
    "            std = torch.exp(0.5*logvar)\n",
    "            eps = torch.randn_like(std)\n",
    "            z = mu + std*eps\n",
    "        else:\n",
    "            z = mu\n",
    "        return z\n",
    "\n",
    "    def forward(self, x, c):\n",
    "        # TODO\n",
    "        \n",
    "        mu, logvar = self.encoder(x, c)\n",
    "        z = self.reparameterize(mu, logvar)\n",
    "        xhat = self.decoder(z, c)\n",
    "        return xhat, mu, logvar\n",
    "    \n",
    "        "
   ]
  },
  {
   "cell_type": "markdown",
   "metadata": {
    "id": "A4T6W_2NucPD"
   },
   "source": [
    "**Loss:** same as VAE."
   ]
  },
  {
   "cell_type": "code",
   "execution_count": 147,
   "metadata": {
    "id": "1SjhrLZnvo9a"
   },
   "outputs": [],
   "source": [
    "# hint: see lab\n",
    "def loss_function(xhat, x, mu, logvar, kl_weight=1.0):\n",
    "    BCE = nn.functional.binary_cross_entropy(\n",
    "      xhat.view(xhat.size(0),-1), x.view(x.size(0), -1), reduction='none').sum(1).mean()\n",
    "    KLD = -0.5 * torch.sum(1 + logvar - mu.pow(2) - logvar.exp(), 1).mean()\n",
    "    loss = BCE + kl_weight*KLD\n",
    "    return loss, BCE.item(), KLD.item()"
   ]
  },
  {
   "cell_type": "markdown",
   "metadata": {
    "id": "RsSzgAFDwUu-"
   },
   "source": [
    "### C. Training\n",
    "\n",
    "Train your conditional VAE model using your loss function on MNIST.\n",
    "\n",
    "**Your task:** Implement training logic, and *produce a plot of training loss and a plot of validation loss* (x-axis: epoch, y-axis: loss). Each plot should contain three lines: total loss, BCE, and KL-divergence.\n"
   ]
  },
  {
   "cell_type": "code",
   "execution_count": 152,
   "metadata": {},
   "outputs": [],
   "source": [
    "device = torch.device(\"cuda:0\")\n",
    "zdim = 20        # use this\n",
    "kl_weight = 1.0  # use this\n",
    "\n",
    "model = CVAE(zdim=20, nclasses=10).to(device)\n",
    "\n",
    "optimizer = torch.optim.Adam(\n",
    "    model.parameters(),\n",
    "    lr=1e-3,\n",
    ")"
   ]
  },
  {
   "cell_type": "code",
   "execution_count": null,
   "metadata": {
    "id": "V3kSQfGSwivq"
   },
   "outputs": [],
   "source": [
    "def train(epoch):\n",
    "    model.train()\n",
    "    train_loss, bce, kld = 0, 0, 0\n",
    "    for batch_idx, (x, c) in tqdm(enumerate(train_loader), total=len(train_loader)):\n",
    "        x = x.to(device)\n",
    "\n",
    "        optimizer.zero_grad()\n",
    "        xhat, mu, logvar = model(x,c)\n",
    "        loss, bce_, kld_ = loss_function(xhat, x, mu, logvar, kl_weight)\n",
    "        loss.backward()\n",
    "        optimizer.step()\n",
    "\n",
    "        train_loss += loss.item()\n",
    "        bce += bce_\n",
    "        kld += kld_\n",
    "\n",
    "    bce /= len(train_loader.dataset)\n",
    "    kld /= len(train_loader.dataset)\n",
    "    train_loss /= len(train_loader.dataset)\n",
    "    print('====> Epoch: {} Average loss: {:.4f} (bce {:.4f}, kld {:.4f})'.format(\n",
    "        epoch, \n",
    "        train_loss, \n",
    "        bce,\n",
    "        kld\n",
    "    ))\n",
    "    return train_loss, bce, kld\n",
    "\n",
    "\n",
    "def validate(epoch):\n",
    "    cache = dict(mus=[], logvars=[], ys=[])\n",
    "    mus, logvars, ys = [], [], []\n",
    "    model.eval()\n",
    "    test_loss, bce, kld = 0, 0, 0\n",
    "    with torch.no_grad():\n",
    "        for i, (x, y) in enumerate(test_loader):\n",
    "            \n",
    "            x = x.to(device)\n",
    "            c = y\n",
    "            xhat, mu, logvar = model(x,c)\n",
    "            loss, bce_, kld_ = loss_function(xhat, x, mu, logvar, kl_weight)\n",
    "\n",
    "            test_loss += loss.item()\n",
    "            bce += bce_\n",
    "            kld += kld_\n",
    "            cache['mus'].append(mu.detach())\n",
    "            cache['logvars'].append(logvar.detach())\n",
    "            cache['ys'].append(y.detach())\n",
    "\n",
    "    test_loss /= len(test_loader.dataset)\n",
    "    bce /= len(test_loader.dataset)\n",
    "    kld /= len(test_loader.dataset)\n",
    "    print('====> Valid set loss: {:.4f} (bce {:.4f}, kld {:.4f})'.format(\n",
    "        test_loss,\n",
    "        bce,\n",
    "        kld\n",
    "    ))\n",
    "    return cache, test_loss, bce, kld\n",
    "\n",
    "# train, validate ..\n",
    "best_loss = 1e5\n",
    "cache = dict(mus=[], logvars=[], ys=[], valid_loss=[], valid_bce=[], valid_kld=[], train_loss=[], train_bce=[], train_kld=[])\n",
    "wait = 10\n",
    "cnt = 0\n",
    "for epoch in range(1,100):\n",
    "    cache_, valid_loss, valid_bce, valid_kld = validate(epoch)  \n",
    "    train_loss, train_bce, train_kld = train(epoch)\n",
    "\n",
    "\n",
    "    cache['valid_loss'].append(valid_loss)\n",
    "    cache['valid_bce'].append(valid_bce)\n",
    "    cache['valid_kld'].append(valid_kld)\n",
    "    cache['train_loss'].append(train_loss)\n",
    "    cache['train_bce'].append(train_bce)\n",
    "    cache['train_kld'].append(train_kld)\n",
    "    \n",
    "    if cnt>wait:\n",
    "        break\n",
    "\n",
    "    if valid_loss < best_loss:\n",
    "        cnt = 0\n",
    "        torch.save({\n",
    "            'state_dict': model.state_dict(),\n",
    "            'valid_loss': cache['valid_loss'],\n",
    "            'validbcse': cache['valid_bce'],\n",
    "            'valid_kld': cache['valid_kld'],\n",
    "            'train_loss': cache['train_loss'],\n",
    "            'train_bce': cache['train_bce'],\n",
    "            'train_kld': cache['train_kld'],\n",
    "        }, open('model_cvae.pt', 'wb'))\n",
    "        best_loss = valid_loss\n",
    "    else:\n",
    "        cnt+=1\n",
    "        print(\"waiting time: \",cnt)"
   ]
  },
  {
   "cell_type": "markdown",
   "metadata": {
    "id": "mrNqjK3DxS6x"
   },
   "source": [
    "### D. Conditional generation\n",
    "\n",
    "**Your task**: complete the code below to produce a grid of samples with 10 rows, where the $i$'th row has samples of class $i$."
   ]
  },
  {
   "cell_type": "code",
   "execution_count": 154,
   "metadata": {
    "colab": {
     "base_uri": "https://localhost:8080/",
     "height": 269
    },
    "id": "lNATir_Aq4jN",
    "outputId": "3667fff6-4265-4ab5-9a47-2f329db20305"
   },
   "outputs": [
    {
     "data": {
      "image/png": "[encoded data removed]",
      "text/plain": [
       "<Figure size 432x288 with 1 Axes>"
      ]
     },
     "metadata": {
      "needs_background": "light"
     },
     "output_type": "display_data"
    }
   ],
   "source": [
    "from torchvision.utils import make_grid\n",
    "def show(img):\n",
    "    npimg = img.numpy()\n",
    "    plt.imshow(np.transpose(npimg, (1,2,0)), interpolation='nearest')\n",
    "    \n",
    "\n",
    "N = 8\n",
    "model.eval()\n",
    "grids = []\n",
    "for y_ in range(10):\n",
    "    # TODO (the ... does not imply it is a single line)\n",
    "    # sample = ...\n",
    "    z = torch.randn((N, model.encoder.zdim)).to(device)\n",
    "    c = torch.zeros(N, dtype=torch.int64).cuda()\n",
    "    for i in range(0, 8):\n",
    "        c[i]=int(y_)\n",
    "    \n",
    "    sample = model.decoder(z, c)\n",
    "    grid = make_grid(sample).detach().cpu()\n",
    "    grids.append(grid)\n",
    "\n",
    "grid = torch.cat(grids, 1)\n",
    "show(grid);"
   ]
  }
 ],
 "metadata": {
  "accelerator": "GPU",
  "colab": {
   "collapsed_sections": [],
   "name": "hw4_vae.ipynb",
   "provenance": []
  },
  "kernelspec": {
   "display_name": "Python 3",
   "language": "python",
   "name": "python3"
  },
  "language_info": {
   "codemirror_mode": {
    "name": "ipython",
    "version": 3
   },
   "file_extension": ".py",
   "mimetype": "text/x-python",
   "name": "python",
   "nbconvert_exporter": "python",
   "pygments_lexer": "ipython3",
   "version": "3.6.3"
  }
 },
 "nbformat": 4,
 "nbformat_minor": 4
}
